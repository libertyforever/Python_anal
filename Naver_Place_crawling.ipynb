{
 "cells": [
  {
   "cell_type": "code",
   "execution_count": 1,
   "metadata": {},
   "outputs": [],
   "source": [
    "from urllib.request import urlopen\n",
    "from bs4 import BeautifulSoup\n",
    "import re\n",
    "import pandas as pd"
   ]
  },
  {
   "cell_type": "code",
   "execution_count": 2,
   "metadata": {},
   "outputs": [],
   "source": [
    "urlBase = \"file:\\\\05.Programming\\\\01_python_data\\\\DataAnalysis\\\\for_Blog\\\\account\"\n",
    "fileName = \"\\\\PlaceList.html\"\n",
    "url = urlBase + fileName"
   ]
  },
  {
   "cell_type": "code",
   "execution_count": 3,
   "metadata": {},
   "outputs": [],
   "source": [
    "html = urlopen(url)\n",
    "soup = BeautifulSoup(html)"
   ]
  },
  {
   "cell_type": "code",
   "execution_count": 4,
   "metadata": {},
   "outputs": [
    {
     "name": "stdout",
     "output_type": "stream",
     "text": [
      "[<span class=\"category_name\">집</span>, <span class=\"category_name\">맛집</span>, <span class=\"category_name\">여행지</span>, <span class=\"category_name\">음식점</span>, <span class=\"category_name\">울산</span>, <span class=\"category_name\">군산</span>]\n"
     ]
    }
   ],
   "source": [
    "#category_home\n",
    "#category_matjip\n",
    "#category_travel\n",
    "#category_food\n",
    "#category_ulsan\n",
    "#category_gusan\n",
    "\n",
    "list_name = soup.find_all(\"span\", \"category_name\")\n",
    "print(list_name)"
   ]
  },
  {
   "cell_type": "code",
   "execution_count": 5,
   "metadata": {},
   "outputs": [
    {
     "name": "stdout",
     "output_type": "stream",
     "text": [
      "['집', '맛집', '여행지', '음식점', '울산', '군산']\n"
     ]
    }
   ],
   "source": [
    "list_ctgry_name = []\n",
    "for txt in list_name:\n",
    "    list_ctgry_name.append(txt.get_text())\n",
    "    \n",
    "print(list_ctgry_name)"
   ]
  },
  {
   "cell_type": "code",
   "execution_count": 6,
   "metadata": {},
   "outputs": [],
   "source": [
    "list_soup_home = soup.find(\"div\",\"category_home\")"
   ]
  },
  {
   "cell_type": "code",
   "execution_count": 7,
   "metadata": {},
   "outputs": [],
   "source": [
    "#result_name\n",
    "#result_address\n",
    "home_name = []\n",
    "home_address = []\n",
    "for txt in list_soup_home.find_all(\"span\",\"result_name\"):\n",
    "    home_name.append(txt.get_text())\n",
    "    \n",
    "for txt in list_soup_home.find_all(\"span\",\"result_address\"):\n",
    "    home_address.append(txt.get_text())\n"
   ]
  },
  {
   "cell_type": "code",
   "execution_count": 8,
   "metadata": {},
   "outputs": [],
   "source": [
    "list_soup_travel = soup.find(\"div\",\"category_travel\")\n",
    "\n",
    "travel_name = []\n",
    "travel_address = []\n",
    "\n",
    "for  txt in list_soup_travel.find_all(\"span\",\"result_name\"):\n",
    "    travel_name.append(txt.get_text())\n",
    "    \n",
    "for txt in list_soup_travel.find_all(\"span\",\"result_address\"):\n",
    "    travel_address.append(txt.get_text())"
   ]
  },
  {
   "cell_type": "code",
   "execution_count": 9,
   "metadata": {},
   "outputs": [
    {
     "name": "stdout",
     "output_type": "stream",
     "text": [
      "['남천해변시장', '학리방파제', '아홉산숲', '장승포항', '블루엔화이트펜션', '미래사', '이순신공원']\n"
     ]
    }
   ],
   "source": [
    "print(travel_name)"
   ]
  },
  {
   "cell_type": "code",
   "execution_count": 10,
   "metadata": {},
   "outputs": [],
   "source": [
    "list_soup_matjip = soup.find(\"div\",\"category_matjip\")\n",
    "\n",
    "matjip_name = []\n",
    "matjip_address = []\n",
    "\n",
    "for  txt in list_soup_matjip.find_all(\"span\",\"result_name\"):\n",
    "    matjip_name.append(txt.get_text())\n",
    "    \n",
    "for txt in list_soup_matjip.find_all(\"span\",\"result_address\"):\n",
    "    matjip_address.append(txt.get_text())"
   ]
  },
  {
   "cell_type": "code",
   "execution_count": 11,
   "metadata": {},
   "outputs": [
    {
     "name": "stdout",
     "output_type": "stream",
     "text": [
      "['오르조 애프터8', '족발쌀롱 수영점', '럭키상회', '연꽃이야기', '우리포차', '쉽커피', '육화식당', '진지아', '도요스6가', '팀호완 삼성점', '딤딤섬 파르나스몰점', '미가훠궈양고기', '마이페이보릿쿠키', '뉴질랜드스토리', '해운대 포장마차촌', '학리집', '카페델루나', '비스트로공작새', '코모도테이블', '신기숲', '딤타오', '동춘옥', '소울인', '파티오42 부산해운대점', '상해소흘', '꼬랑치킨', '엘리스리틀이태리', '갓잇 송리단길점', '망원동티라미수 본점', '망원동티라미수 송리단길점', '파델라', '만담분식']\n"
     ]
    }
   ],
   "source": [
    "print(matjip_name)"
   ]
  },
  {
   "cell_type": "code",
   "execution_count": 12,
   "metadata": {},
   "outputs": [],
   "source": [
    "list_soup_food = soup.find(\"div\",\"category_food\")\n",
    "\n",
    "food_name = []\n",
    "food_address = []\n",
    "\n",
    "for  txt in list_soup_food.find_all(\"span\",\"result_name\"):\n",
    "    food_name.append(txt.get_text())\n",
    "    \n",
    "for txt in list_soup_food.find_all(\"span\",\"result_address\"):\n",
    "    food_address.append(txt.get_text())"
   ]
  },
  {
   "cell_type": "code",
   "execution_count": 13,
   "metadata": {},
   "outputs": [],
   "source": [
    "list_soup_ulsan = soup.find(\"div\",\"category_ulsan\")\n",
    "\n",
    "ulsan_name = []\n",
    "ulsan_address = []\n",
    "\n",
    "for  txt in list_soup_ulsan.find_all(\"span\",\"result_name\"):\n",
    "    ulsan_name.append(txt.get_text())\n",
    "    \n",
    "for txt in list_soup_ulsan.find_all(\"span\",\"result_address\"):\n",
    "    ulsan_address.append(txt.get_text())"
   ]
  },
  {
   "cell_type": "code",
   "execution_count": 14,
   "metadata": {},
   "outputs": [],
   "source": [
    "list_soup_gusan = soup.find(\"div\",\"category_gusan\")\n",
    "\n",
    "gusan_name = []\n",
    "gusan_address = []\n",
    "\n",
    "for  txt in list_soup_gusan.find_all(\"span\",\"result_name\"):\n",
    "    gusan_name.append(txt.get_text())\n",
    "    \n",
    "for txt in list_soup_gusan.find_all(\"span\",\"result_address\"):\n",
    "    gusan_address.append(txt.get_text())"
   ]
  },
  {
   "cell_type": "code",
   "execution_count": 15,
   "metadata": {},
   "outputs": [],
   "source": [
    "category = []\n",
    "name = []\n",
    "address = []"
   ]
  },
  {
   "cell_type": "code",
   "execution_count": 16,
   "metadata": {},
   "outputs": [],
   "source": [
    "def add_list(category, name, address, p_category, p_name, p_address):\n",
    "    for txt in p_name:\n",
    "        name.append(txt)\n",
    "        category.append(p_category)\n",
    "    for txt in p_address:\n",
    "        address.append(txt)   "
   ]
  },
  {
   "cell_type": "code",
   "execution_count": 17,
   "metadata": {},
   "outputs": [],
   "source": [
    "#list_ctgry_name -> ['집', '맛집', '여행지', '음식점', '울산', '군산']\n",
    "add_list(category, name, address, list_ctgry_name[0], home_name, home_address)\n"
   ]
  },
  {
   "cell_type": "code",
   "execution_count": 18,
   "metadata": {},
   "outputs": [
    {
     "name": "stdout",
     "output_type": "stream",
     "text": [
      "['집', '집', '집', '맛집', '맛집', '맛집', '맛집', '맛집', '맛집', '맛집', '맛집', '맛집', '맛집', '맛집', '맛집', '맛집', '맛집', '맛집', '맛집', '맛집', '맛집', '맛집', '맛집', '맛집', '맛집', '맛집', '맛집', '맛집', '맛집', '맛집', '맛집', '맛집', '맛집', '맛집', '맛집', '여행지', '여행지', '여행지', '여행지', '여행지', '여행지', '여행지', '음식점', '음식점', '음식점', '음식점', '음식점', '음식점', '음식점', '울산', '울산', '울산', '울산', '울산', '울산', '울산', '울산', '울산', '울산', '군산', '군산', '군산', '군산', '군산', '군산', '군산', '군산', '군산']\n"
     ]
    }
   ],
   "source": [
    "add_list(category, name, address, list_ctgry_name[1], matjip_name, matjip_address)\n",
    "add_list(category, name, address, list_ctgry_name[2], travel_name, travel_address)\n",
    "add_list(category, name, address, list_ctgry_name[3], food_name, food_address)\n",
    "add_list(category, name, address, list_ctgry_name[4], ulsan_name, ulsan_address)\n",
    "add_list(category, name, address, list_ctgry_name[5], gusan_name, gusan_address)\n",
    "\n",
    "print(category)"
   ]
  },
  {
   "cell_type": "code",
   "execution_count": 19,
   "metadata": {},
   "outputs": [],
   "source": [
    "list_place_obj = {\"Category\":category,\"Name\":name,\"Address\":address}\n",
    "list_DF = pd.DataFrame(list_place_obj,columns = [\"Category\",\"Name\",\"Address\"])"
   ]
  },
  {
   "cell_type": "code",
   "execution_count": null,
   "metadata": {},
   "outputs": [],
   "source": [
    "list_DF.to_excel('NaverPlaceList.xlsx', index=False)"
   ]
  }
 ],
 "metadata": {
  "kernelspec": {
   "display_name": "Python 3",
   "language": "python",
   "name": "python3"
  },
  "language_info": {
   "codemirror_mode": {
    "name": "ipython",
    "version": 3
   },
   "file_extension": ".py",
   "mimetype": "text/x-python",
   "name": "python",
   "nbconvert_exporter": "python",
   "pygments_lexer": "ipython3",
   "version": "3.8.3"
  }
 },
 "nbformat": 4,
 "nbformat_minor": 4
}
