{
 "cells": [
  {
   "cell_type": "code",
   "execution_count": 1,
   "metadata": {},
   "outputs": [],
   "source": [
    "from urllib.request import urlopen\n",
    "from bs4 import BeautifulSoup\n",
    "import re\n",
    "import pandas as pd"
   ]
  },
  {
   "cell_type": "code",
   "execution_count": 2,
   "metadata": {},
   "outputs": [],
   "source": [
    "urlBase = \"file:\\\\05.Programming\\\\01_python_data\\\\DataAnalysis\\\\for_Blog\\\\account\"\n",
    "fileName = \"\\\\PlaceList.html\"\n",
    "url = urlBase + fileName"
   ]
  },
  {
   "cell_type": "code",
   "execution_count": 3,
   "metadata": {},
   "outputs": [],
   "source": [
    "html = urlopen(url)\n",
    "soup = BeautifulSoup(html)"
   ]
  },
  {
   "cell_type": "code",
   "execution_count": 4,
   "metadata": {},
   "outputs": [
    {
     "name": "stdout",
     "output_type": "stream",
     "text": [
      "[<span class=\"category_name\">집</span>, <span class=\"category_name\">맛집</span>, <span class=\"category_name\">여행지</span>, <span class=\"category_name\">음식점</span>, <span class=\"category_name\">울산</span>, <span class=\"category_name\">군산</span>]\n"
     ]
    }
   ],
   "source": [
    "#category_home\n",
    "#category_matjip\n",
    "#category_travel\n",
    "#category_food\n",
    "#category_ulsan\n",
    "#category_gusan\n",
    "\n",
    "list_name = soup.find_all(\"span\", \"category_name\")\n",
    "print(list_name)"
   ]
  },
  {
   "cell_type": "code",
   "execution_count": 5,
   "metadata": {},
   "outputs": [
    {
     "name": "stdout",
     "output_type": "stream",
     "text": [
      "['집', '맛집', '여행지', '음식점', '울산', '군산']\n"
     ]
    }
   ],
   "source": [
    "list_ctgry_name = []\n",
    "for txt in list_name:\n",
    "    list_ctgry_name.append(txt.get_text())\n",
    "    \n",
    "print(list_ctgry_name)"
   ]
  },
  {
   "cell_type": "code",
   "execution_count": 6,
   "metadata": {},
   "outputs": [],
   "source": [
    "list_soup_home = soup.find(\"div\",\"category_home\")"
   ]
  },
  {
   "cell_type": "code",
   "execution_count": 7,
   "metadata": {
    "collapsed": true
   },
   "outputs": [
    {
     "name": "stdout",
     "output_type": "stream",
     "text": [
      "<div class=\"category_home\"><span class=\"category_name\">집</span>\n",
      "<ul _ngcontent-aov-c198=\"\" class=\"list_result instance\"><li _ngcontent-aov-c198=\"\" class=\"item_result ng-star-inserted\" style=\"\"><div _ngcontent-aov-c198=\"\" class=\"displayname_box favorite ng-star-inserted\"><div _ngcontent-aov-c198=\"\" class=\"input_box\"><p _ngcontent-aov-c198=\"\" class=\"input_text\" contenteditable=\"false\">집</p></div></div><!-- --><div _ngcontent-aov-c198=\"\" class=\"item_box\"><a _ngcontent-aov-c198=\"\" class=\"link_result\" draggable=\"false\" href=\"\" preventdefault=\"\" style=\"left: 0px; top: 41px;\"><div _ngcontent-aov-c198=\"\" class=\"result_box\"><span _ngcontent-aov-c198=\"\" class=\"result_name\">위례송파푸르지오아파트</span><span _ngcontent-aov-c198=\"\" class=\"result_address\">서울 송파구 장지동 878</span></div></a><div _ngcontent-aov-c198=\"\" class=\"menu_box\"><div _ngcontent-aov-c198=\"\" class=\"menu_inner\"><button _ngcontent-aov-c198=\"\" class=\"btn_more\" type=\"button\"> 더보기 </button></div></div></div><!-- --></li><li _ngcontent-aov-c198=\"\" class=\"item_result ng-star-inserted\" style=\"\"><!-- --><div _ngcontent-aov-c198=\"\" class=\"item_box\"><a _ngcontent-aov-c198=\"\" class=\"link_result\" draggable=\"false\" href=\"\" preventdefault=\"\" style=\"left: 0px; top: 20px;\"><div _ngcontent-aov-c198=\"\" class=\"result_box\"><span _ngcontent-aov-c198=\"\" class=\"result_name\">부산세관감시2관육상기동감시반</span><span _ngcontent-aov-c198=\"\" class=\"result_address\">부산 남구 감만동 624</span></div></a><div _ngcontent-aov-c198=\"\" class=\"menu_box\"><div _ngcontent-aov-c198=\"\" class=\"menu_inner\"><button _ngcontent-aov-c198=\"\" class=\"btn_more\" type=\"button\"> 더보기 </button></div></div></div><!-- --></li><li _ngcontent-aov-c198=\"\" class=\"item_result ng-star-inserted\" style=\"\"><!-- --><div _ngcontent-aov-c198=\"\" class=\"item_box\"><a _ngcontent-aov-c198=\"\" class=\"link_result\" draggable=\"false\" href=\"\" preventdefault=\"\" style=\"left: 0px; top: 20px;\"><div _ngcontent-aov-c198=\"\" class=\"result_box\"><span _ngcontent-aov-c198=\"\" class=\"result_name\">부산세관 직원합숙소</span><span _ngcontent-aov-c198=\"\" class=\"result_address\">부산 연제구 거제1동 1464-1</span></div></a><div _ngcontent-aov-c198=\"\" class=\"menu_box\"><div _ngcontent-aov-c198=\"\" class=\"menu_inner\"><button _ngcontent-aov-c198=\"\" class=\"btn_more\" type=\"button\"> 더보기 </button></div></div></div><!-- --></li><!-- --><!-- --><!-- --><!-- --></ul>\n",
      "</div>\n"
     ]
    }
   ],
   "source": [
    "print(list_soup_home)"
   ]
  },
  {
   "cell_type": "code",
   "execution_count": 8,
   "metadata": {},
   "outputs": [
    {
     "name": "stdout",
     "output_type": "stream",
     "text": [
      "['위례송파푸르지오아파트', '부산세관감시2관육상기동감시반', '부산세관 직원합숙소']\n"
     ]
    }
   ],
   "source": [
    "#result_name\n",
    "#result_address\n",
    "home_name = []\n",
    "home_address = []\n",
    "for txt in list_soup_home.find_all(\"span\",\"result_name\"):\n",
    "    home_name.append(txt.get_text())\n",
    "    \n",
    "for txt in list_soup_home.find_all(\"span\",\"result_address\"):\n",
    "    home_address.append(txt.get_text())\n",
    "    \n",
    "print(home_name)"
   ]
  },
  {
   "cell_type": "code",
   "execution_count": 9,
   "metadata": {},
   "outputs": [
    {
     "name": "stdout",
     "output_type": "stream",
     "text": [
      "['서울 송파구 장지동 878', '부산 남구 감만동 624', '부산 연제구 거제1동 1464-1']\n"
     ]
    }
   ],
   "source": [
    "print(home_address)"
   ]
  }
 ],
 "metadata": {
  "kernelspec": {
   "display_name": "Python 3",
   "language": "python",
   "name": "python3"
  },
  "language_info": {
   "codemirror_mode": {
    "name": "ipython",
    "version": 3
   },
   "file_extension": ".py",
   "mimetype": "text/x-python",
   "name": "python",
   "nbconvert_exporter": "python",
   "pygments_lexer": "ipython3",
   "version": "3.8.3"
  }
 },
 "nbformat": 4,
 "nbformat_minor": 4
}
