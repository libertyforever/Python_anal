{
 "cells": [
  {
   "cell_type": "code",
   "execution_count": 1,
   "metadata": {},
   "outputs": [],
   "source": [
    "from bs4 import BeautifulSoup\n",
    "from urllib.request import urlopen\n",
    "import pandas as pd"
   ]
  },
  {
   "cell_type": "code",
   "execution_count": 2,
   "metadata": {},
   "outputs": [],
   "source": [
    "url = '<ul class=\"prdmenu_list\"><li><div class=\"prd_img\"><em class=\" \"></em><span><img src=\"https://d1cua0vf0mkpiy.cloudfront.net/images/menu/normal/f88ce4d8-6555-41e6-932e-50bcca35a90b.png\" class=\"\" style=\"display: inline; opacity: 1;\"></span></div><div class=\"cont\"><p class=\"tit\"><strong>기네스콰트로치즈와퍼</strong></p></div><a class=\"btn_detail\"><span>Details</span></a></li><li><div class=\"prd_img\"><em class=\" \"></em><span><img src=\"https://d1cua0vf0mkpiy.cloudfront.net/images/menu/normal/b1619704-4628-4325-899c-060ef263f227.png\" class=\"\" style=\"display: inline; opacity: 1;\"></span></div><div class=\"cont\"><p class=\"tit\"><strong>기네스와퍼</strong></p></div><a class=\"btn_detail\"><span>Details</span></a></li><li><div class=\"prd_img\"><em class=\" \"></em><span><img src=\"https://d1cua0vf0mkpiy.cloudfront.net/images/menu/normal/93cae969-866f-4efd-ba8e-daec45071f63.png\" class=\"\" style=\"display: inline; opacity: 1;\"></span></div><div class=\"cont\"><p class=\"tit\"><strong>기네스머쉬룸와퍼</strong></p></div><a class=\"btn_detail\"><span>Details</span></a></li><li><div class=\"prd_img\"><em class=\" \"></em><span><img src=\"https://d1cua0vf0mkpiy.cloudfront.net/images/menu/normal/858ed4d3-6e25-48e3-8d4f-814615a88ec6.png\" class=\"\" style=\"display: inline; opacity: 1;\"></span></div><div class=\"cont\"><p class=\"tit\"><strong>몬스터X</strong></p></div><a class=\"btn_detail\"><span>Details</span></a></li><li><div class=\"prd_img\"><em class=\" \"></em><span><img src=\"https://d1cua0vf0mkpiy.cloudfront.net/images/menu/normal/50f3a218-dbf1-4548-acf8-09451a335295.png\" class=\"\" style=\"display: inline; opacity: 1;\"></span></div><div class=\"cont\"><p class=\"tit\"><strong>몬스터와퍼</strong></p></div><a class=\"btn_detail\"><span>Details</span></a></li><li><div class=\"prd_img\"><em class=\" \"></em><span><img src=\"https://d1cua0vf0mkpiy.cloudfront.net/images/menu/normal/b99d2311-e052-485c-97b7-11dcb9e5e965.png\" class=\"\" style=\"display: inline; opacity: 1;\"></span></div><div class=\"cont\"><p class=\"tit\"><strong>콰트로치즈X</strong></p></div><a class=\"btn_detail\"><span>Details</span></a></li><li><div class=\"prd_img\"><em class=\" \"></em><span><img src=\"https://d1cua0vf0mkpiy.cloudfront.net/images/menu/normal/7fe2ed42-71d4-46c8-b332-7b52a881de16.png\" class=\"\" style=\"display: inline; opacity: 1;\"></span></div><div class=\"cont\"><p class=\"tit\"><strong>콰트로치즈와퍼</strong></p></div><a class=\"btn_detail\"><span>Details</span></a></li><li><div class=\"prd_img\"><em class=\" \"></em><span><img src=\"https://d1cua0vf0mkpiy.cloudfront.net/images/menu/normal/1e6d51d5-592b-447f-9535-7936ca5b4cc8.png\" class=\"\" style=\"display: inline; opacity: 1;\"></span></div><div class=\"cont\"><p class=\"tit\"><strong>트러플머쉬룸X</strong></p></div><a class=\"btn_detail\"><span>Details</span></a></li><li><div class=\"prd_img\"><em class=\" \"></em><span><img src=\"https://d1cua0vf0mkpiy.cloudfront.net/images/menu/normal/cdbbd358-385f-4346-ae8c-f44a3577e6a1.png\" class=\"\" style=\"display: inline; opacity: 1;\"></span></div><div class=\"cont\"><p class=\"tit\"><strong>트러플머쉬룸와퍼</strong></p></div><a class=\"btn_detail\"><span>Details</span></a></li><li><div class=\"prd_img\"><em class=\" \"></em><span><img src=\"https://d1cua0vf0mkpiy.cloudfront.net/images/menu/normal/738a7128-9cba-4ad6-842f-28df5fa3fcbe.png\" class=\"\" style=\"display: inline; opacity: 1;\"></span></div><div class=\"cont\"><p class=\"tit\"><strong>통새우스테이크버거</strong></p></div><a class=\"btn_detail\"><span>Details</span></a></li><li><div class=\"prd_img\"><em class=\" \"></em><span><img src=\"https://d1cua0vf0mkpiy.cloudfront.net/images/menu/normal/1dd49667-5a30-4128-a2b9-49fc63a2e3ae.png\" class=\"\" style=\"display: inline; opacity: 1;\"></span></div><div class=\"cont\"><p class=\"tit\"><strong>통새우와퍼</strong></p></div><a class=\"btn_detail\"><span>Details</span></a></li></ul>'\n",
    "url_soup = BeautifulSoup(url)"
   ]
  },
  {
   "cell_type": "code",
   "execution_count": 4,
   "metadata": {},
   "outputs": [
    {
     "name": "stdout",
     "output_type": "stream",
     "text": [
      "[<p class=\"tit\"><strong>기네스콰트로치즈와퍼</strong></p>, <p class=\"tit\"><strong>기네스와퍼</strong></p>, <p class=\"tit\"><strong>기네스머쉬룸와퍼</strong></p>, <p class=\"tit\"><strong>몬스터X</strong></p>, <p class=\"tit\"><strong>몬스터와퍼</strong></p>, <p class=\"tit\"><strong>콰트로치즈X</strong></p>, <p class=\"tit\"><strong>콰트로치즈와퍼</strong></p>, <p class=\"tit\"><strong>트러플머쉬룸X</strong></p>, <p class=\"tit\"><strong>트러플머쉬룸와퍼</strong></p>, <p class=\"tit\"><strong>통새우스테이크버거</strong></p>, <p class=\"tit\"><strong>통새우와퍼</strong></p>]\n"
     ]
    }
   ],
   "source": [
    "menu_name = url_soup.find_all(\"p\",\"tit\")\n",
    "print(menu_name)"
   ]
  },
  {
   "cell_type": "code",
   "execution_count": 5,
   "metadata": {},
   "outputs": [
    {
     "name": "stdout",
     "output_type": "stream",
     "text": [
      "['기네스콰트로치즈와퍼', '기네스와퍼', '기네스머쉬룸와퍼', '몬스터X', '몬스터와퍼', '콰트로치즈X', '콰트로치즈와퍼', '트러플머쉬룸X', '트러플머쉬룸와퍼', '통새우스테이크버거', '통새우와퍼']\n"
     ]
    }
   ],
   "source": [
    "#와퍼\n",
    "menu = []\n",
    "for txt in menu_name:\n",
    "    menu.append(txt.get_text())\n",
    "    \n",
    "print(menu)"
   ]
  },
  {
   "cell_type": "code",
   "execution_count": 8,
   "metadata": {},
   "outputs": [
    {
     "name": "stdout",
     "output_type": "stream",
     "text": [
      "['고추장소불고기버거', '고추장버섯소불고기버거', '직화치즈소불고기버거', '직화더블소불고기버거', '직화소불고기버거', '직화버섯소불고기버거', '트러플머쉬룸와퍼주니어', '통새우와퍼주니어', '콰트로치즈와퍼주니어', '할라피뇨와퍼주니어', '와퍼주니어', '불고기와퍼주니어', '치즈와퍼주니어', '치즈버거']\n"
     ]
    }
   ],
   "source": [
    "#주니어&버거\n",
    "url2 = '<ul class=\"prdmenu_list\"><li><div class=\"prd_img\"><em class=\" \"></em><span><img src=\"https://d1cua0vf0mkpiy.cloudfront.net/images/menu/normal/02a9d5f7-b68d-4f16-959c-c364337e0ac8.png\" class=\"\" style=\"display: inline; opacity: 1;\"></span></div><div class=\"cont\"><p class=\"tit\"><strong>고추장소불고기버거</strong></p></div><a class=\"btn_detail\"><span>Details</span></a></li><li><div class=\"prd_img\"><em class=\" \"></em><span><img src=\"https://d1cua0vf0mkpiy.cloudfront.net/images/menu/normal/ed7680b1-d9b2-41ef-a354-462f35f8f81a.png\" class=\"\" style=\"display: inline; opacity: 1;\"></span></div><div class=\"cont\"><p class=\"tit\"><strong>고추장버섯소불고기버거</strong></p></div><a class=\"btn_detail\"><span>Details</span></a></li><li><div class=\"prd_img\"><em class=\" \"></em><span><img src=\"https://d1cua0vf0mkpiy.cloudfront.net/images/menu/normal/7fd44763-93cd-4417-b2f3-d8880254383b.png\" class=\"\" style=\"display: inline; opacity: 1;\"></span></div><div class=\"cont\"><p class=\"tit\"><strong>직화치즈소불고기버거</strong></p></div><a class=\"btn_detail\"><span>Details</span></a></li><li><div class=\"prd_img\"><em class=\" \"></em><span><img src=\"https://d1cua0vf0mkpiy.cloudfront.net/images/menu/normal/31200c31-c565-4f2b-8731-644effe5d1e5.png\" class=\"\" style=\"display: inline; opacity: 1;\"></span></div><div class=\"cont\"><p class=\"tit\"><strong>직화더블소불고기버거</strong></p></div><a class=\"btn_detail\"><span>Details</span></a></li><li><div class=\"prd_img\"><em class=\" \"></em><span><img src=\"https://d1cua0vf0mkpiy.cloudfront.net/images/menu/normal/2e21479a-bf3a-4b96-bcb8-57ba646e85b5.png\" class=\"\" style=\"display: inline; opacity: 1;\"></span></div><div class=\"cont\"><p class=\"tit\"><strong>직화소불고기버거</strong></p></div><a class=\"btn_detail\"><span>Details</span></a></li><li><div class=\"prd_img\"><em class=\" \"></em><span><img src=\"https://d1cua0vf0mkpiy.cloudfront.net/images/menu/normal/53a6c57f-cfb1-4530-bfb0-e298c8f86776.png\" class=\"\" style=\"display: inline; opacity: 1;\"></span></div><div class=\"cont\"><p class=\"tit\"><strong>직화버섯소불고기버거</strong></p></div><a class=\"btn_detail\"><span>Details</span></a></li><li><div class=\"prd_img\"><em class=\" \"></em><span><img src=\"https://d1cua0vf0mkpiy.cloudfront.net/images/menu/normal/bba4e7a1-3486-4078-90f3-c6c86fb50c96.png\" class=\"\" style=\"display: inline; opacity: 1;\"></span></div><div class=\"cont\"><p class=\"tit\"><strong>트러플머쉬룸와퍼주니어</strong></p></div><a class=\"btn_detail\"><span>Details</span></a></li><li><div class=\"prd_img\"><em class=\" \"></em><span><img src=\"https://d1cua0vf0mkpiy.cloudfront.net/images/menu/normal/edd8fcea-3016-4820-b3df-9c07692defa3.png\" class=\"\" style=\"display: inline; opacity: 1;\"></span></div><div class=\"cont\"><p class=\"tit\"><strong>통새우와퍼주니어</strong></p></div><a class=\"btn_detail\"><span>Details</span></a></li><li><div class=\"prd_img\"><em class=\" \"></em><span><img src=\"https://d1cua0vf0mkpiy.cloudfront.net/images/menu/normal/29563de2-f79d-4bdd-bf38-497e95c0a79e.png\" class=\"\" style=\"display: inline; opacity: 1;\"></span></div><div class=\"cont\"><p class=\"tit\"><strong>콰트로치즈와퍼주니어</strong></p></div><a class=\"btn_detail\"><span>Details</span></a></li><li><div class=\"prd_img\"><em class=\" \"></em><span><img src=\"https://d1cua0vf0mkpiy.cloudfront.net/images/menu/normal/d29b98b4-3471-48ba-a929-d3c337df57b9.png\" class=\"\" style=\"display: inline; opacity: 1;\"></span></div><div class=\"cont\"><p class=\"tit\"><strong>할라피뇨와퍼주니어</strong></p></div><a class=\"btn_detail\"><span>Details</span></a></li><li><div class=\"prd_img\"><em class=\" \"></em><span><img src=\"https://d1cua0vf0mkpiy.cloudfront.net/images/menu/normal/73323012-0a8f-4b2e-98d7-e307647d1b95.png\" class=\"\" style=\"display: inline; opacity: 1;\"></span></div><div class=\"cont\"><p class=\"tit\"><strong>와퍼주니어</strong></p></div><a class=\"btn_detail\"><span>Details</span></a></li><li><div class=\"prd_img\"><em class=\" \"></em><span><img src=\"https://d1cua0vf0mkpiy.cloudfront.net/images/menu/normal/8040b104-021f-4e8a-8a00-8010ab5d7a9f.png\" class=\"\" style=\"display: inline; opacity: 1;\"></span></div><div class=\"cont\"><p class=\"tit\"><strong>불고기와퍼주니어</strong></p></div><a class=\"btn_detail\"><span>Details</span></a></li><li><div class=\"prd_img\"><em class=\" \"></em><span><img src=\"https://d1cua0vf0mkpiy.cloudfront.net/images/menu/normal/27e1c1e2-71f7-4613-a82c-1e6365639de9.png\" class=\"\" style=\"display: inline; opacity: 1;\"></span></div><div class=\"cont\"><p class=\"tit\"><strong>치즈와퍼주니어</strong></p></div><a class=\"btn_detail\"><span>Details</span></a></li><li><div class=\"prd_img\"><em class=\" \"></em><span><img src=\"https://d1cua0vf0mkpiy.cloudfront.net/images/menu/normal/299e69e6-2d99-48d9-bfbc-dd770c495eb8.png\" class=\"\" style=\"display: inline; opacity: 1;\"></span></div><div class=\"cont\"><p class=\"tit\"><strong>치즈버거</strong></p></div><a class=\"btn_detail\"><span>Details</span></a></li></ul>'\n",
    "url2_soup = BeautifulSoup(url2)\n",
    "menu2_name = url2_soup.find_all(\"p\",\"tit\")\n",
    "menu2 = []\n",
    "for txt in menu2_name:\n",
    "    menu2.append(txt.get_text())\n",
    "    \n",
    "print(menu2)"
   ]
  },
  {
   "cell_type": "code",
   "execution_count": 9,
   "metadata": {},
   "outputs": [
    {
     "name": "stdout",
     "output_type": "stream",
     "text": [
      "['몬스터베이비XL 세트', '바비큐킹치킨버거', '콰트로치즈와퍼주니어', '통새우와퍼주니어', '불고기롱치킨버거', '불고기몬스터 세트', 'BLT뉴올리언스치킨버거', '뉴올리언스치킨버거', '킹치킨버거', '롱치킨버거', '콰트로치즈와퍼주니어 세트', '불고기롱치킨버거 세트', '불고기롱치킨버거']\n"
     ]
    }
   ],
   "source": [
    "#올데이킹&치킨\n",
    "url3 = '<ul class=\"prdmenu_list\"><li><div class=\"prd_img\"><em class=\" \"></em><span><img src=\"https://d1cua0vf0mkpiy.cloudfront.net/images/menu/normal/62bc21c9-ab6e-480f-9c5b-1c9045da3aba.png\" class=\"\" style=\"display: inline; opacity: 1;\"></span></div><div class=\"cont\"><p class=\"tit\"><strong>몬스터베이비XL 세트</strong></p></div><a class=\"btn_detail\"><span>Details</span></a></li><li><div class=\"prd_img\"><em class=\" \"></em><span><img src=\"https://d1cua0vf0mkpiy.cloudfront.net/images/menu/normal/0be7db7f-de92-4784-9c47-6f1e374153ab.png\" class=\"\" style=\"display: inline; opacity: 1;\"></span></div><div class=\"cont\"><p class=\"tit\"><strong>바비큐킹치킨버거</strong></p></div><a class=\"btn_detail\"><span>Details</span></a></li><li><div class=\"prd_img\"><em class=\" \"></em><span><img src=\"https://d1cua0vf0mkpiy.cloudfront.net/images/menu/normal/544f5cfe-8684-44bd-b070-55e8538a097b.png\" class=\"\" style=\"display: inline; opacity: 1;\"></span></div><div class=\"cont\"><p class=\"tit\"><strong>콰트로치즈와퍼주니어</strong></p></div><a class=\"btn_detail\"><span>Details</span></a></li><li><div class=\"prd_img\"><em class=\" \"></em><span><img src=\"https://d1cua0vf0mkpiy.cloudfront.net/images/menu/normal/4bf2716f-5fb8-4ab0-a04b-9acbe3ebd9a0.png\" class=\"\" style=\"display: inline; opacity: 1;\"></span></div><div class=\"cont\"><p class=\"tit\"><strong>통새우와퍼주니어</strong></p></div><a class=\"btn_detail\"><span>Details</span></a></li><li><div class=\"prd_img\"><em class=\" \"></em><span><img src=\"https://d1cua0vf0mkpiy.cloudfront.net/images/menu/normal/b089d1c6-7ce3-487e-b0b5-07cb447de097.png\" class=\"\" style=\"display: inline; opacity: 1;\"></span></div><div class=\"cont\"><p class=\"tit\"><strong>불고기롱치킨버거</strong></p></div><a class=\"btn_detail\"><span>Details</span></a></li><li><div class=\"prd_img\"><em class=\" \"></em><span><img src=\"https://d1cua0vf0mkpiy.cloudfront.net/images/menu/normal/eedc9bf3-ccba-4a81-9c40-413533db6e65.png\" class=\"\" style=\"display: inline; opacity: 1;\"></span></div><div class=\"cont\"><p class=\"tit\"><strong>불고기몬스터 세트</strong></p></div><a class=\"btn_detail\"><span>Details</span></a></li><li><div class=\"prd_img\"><em class=\" \"></em><span><img src=\"https://d1cua0vf0mkpiy.cloudfront.net/images/menu/normal/f144f7cd-e7d7-4ab6-bef1-597bf86cf45f.png\" class=\"\" style=\"display: inline; opacity: 1;\"></span></div><div class=\"cont\"><p class=\"tit\"><strong>BLT뉴올리언스치킨버거</strong></p></div><a class=\"btn_detail\"><span>Details</span></a></li><li><div class=\"prd_img\"><em class=\" \"></em><span><img src=\"https://d1cua0vf0mkpiy.cloudfront.net/images/menu/normal/c6c88f56-275e-488d-b505-bca33de1edf9.png\" class=\"\" style=\"display: inline; opacity: 1;\"></span></div><div class=\"cont\"><p class=\"tit\"><strong>뉴올리언스치킨버거</strong></p></div><a class=\"btn_detail\"><span>Details</span></a></li><li><div class=\"prd_img\"><em class=\" \"></em><span><img src=\"https://d1cua0vf0mkpiy.cloudfront.net/images/menu/normal/a5e8dc87-f71e-401c-a77f-48419b8852a5.png\" class=\"\" style=\"display: inline; opacity: 1;\"></span></div><div class=\"cont\"><p class=\"tit\"><strong>킹치킨버거</strong></p></div><a class=\"btn_detail\"><span>Details</span></a></li><li><div class=\"prd_img\"><em class=\" \"></em><span><img src=\"https://d1cua0vf0mkpiy.cloudfront.net/images/menu/normal/422b9c6a-646e-4bc6-90ea-7038ac4deae6.png\" class=\"\" style=\"display: inline; opacity: 1;\"></span></div><div class=\"cont\"><p class=\"tit\"><strong>롱치킨버거</strong></p></div><a class=\"btn_detail\"><span>Details</span></a></li><li><div class=\"prd_img\"><em class=\" \"></em><span><img src=\"https://d1cua0vf0mkpiy.cloudfront.net/images/menu/normal/4f755bc9-9267-4577-a369-2f530bef6f65.png\" class=\"\" style=\"display: inline; opacity: 1;\"></span></div><div class=\"cont\"><p class=\"tit\"><strong>콰트로치즈와퍼주니어 세트</strong></p></div><a class=\"btn_detail\"><span>Details</span></a></li><li><div class=\"prd_img\"><em class=\" \"></em><span><img src=\"https://d1cua0vf0mkpiy.cloudfront.net/images/menu/normal/fffee275-39db-474e-9734-5b9076c70122.png\" class=\"\" style=\"display: inline; opacity: 1;\"></span></div><div class=\"cont\"><p class=\"tit\"><strong>불고기롱치킨버거 세트</strong></p></div><a class=\"btn_detail\"><span>Details</span></a></li><li><div class=\"prd_img\"><em class=\" \"></em><span><img src=\"https://d1cua0vf0mkpiy.cloudfront.net/images/menu/normal/881f63d7-5213-4102-b77a-e5031b594831.png\" class=\"\" style=\"display: inline; opacity: 1;\"></span></div><div class=\"cont\"><p class=\"tit\"><strong>불고기롱치킨버거</strong></p></div><a class=\"btn_detail\"><span>Details</span></a></li></ul>'\n",
    "url3_soup = BeautifulSoup(url3)\n",
    "menu3_name = url3_soup.find_all(\"p\",\"tit\")\n",
    "menu3 = []\n",
    "for txt in menu3_name:\n",
    "    menu3.append(txt.get_text())\n",
    "    \n",
    "print(menu3)"
   ]
  },
  {
   "cell_type": "code",
   "execution_count": 11,
   "metadata": {},
   "outputs": [
    {
     "name": "stdout",
     "output_type": "stream",
     "text": [
      "['코코넛쉬림프3+스위트칠리소스', '너겟킹8조각 (행사)', '21치즈스틱 (행사)', '21치즈스틱', '프렌치프라이(L) (1+1 행사)', '쉐이킹프라이', '바삭킹8조각+소스', '바삭킹', '크리미모짜볼', '코코넛쉬림프+스위트칠리소스', '치즈프라이 (스낵킹)', '트러플프라이 (스낵킹)', '트러플프라이', '프렌치프라이', '어니언링', '코울슬로 (스낵킹)', '콘샐러드 (스낵킹)', '사이드소스', '시즈닝', '너겟킹']\n"
     ]
    }
   ],
   "source": [
    "#사이드\n",
    "url4 = '<ul class=\"prdmenu_list\"><li><div class=\"prd_img\"><em class=\" \"></em><span><img src=\"https://d1cua0vf0mkpiy.cloudfront.net/images/menu/normal/dce6b413-b69b-4e85-80ce-f74adaea32b7.png\" class=\"\" style=\"display: inline; opacity: 1;\"></span></div><div class=\"cont\"><p class=\"tit\"><strong>코코넛쉬림프3+스위트칠리소스</strong></p></div><a class=\"btn_detail\"><span>Details</span></a></li><li><div class=\"prd_img\"><em class=\" \"></em><span><img src=\"https://d1cua0vf0mkpiy.cloudfront.net/images/menu/normal/34845692-c813-418f-a027-8244bd059fd3.png\" class=\"\" style=\"display: inline; opacity: 1;\"></span></div><div class=\"cont\"><p class=\"tit\"><strong>너겟킹8조각 (행사)</strong></p></div><a class=\"btn_detail\"><span>Details</span></a></li><li><div class=\"prd_img\"><em class=\" \"></em><span><img src=\"https://d1cua0vf0mkpiy.cloudfront.net/images/menu/normal/ebf635f7-7465-44eb-9533-e10b1b8a4450.png\" class=\"\" style=\"display: inline; opacity: 1;\"></span></div><div class=\"cont\"><p class=\"tit\"><strong>21치즈스틱 (행사)</strong></p></div><a class=\"btn_detail\"><span>Details</span></a></li><li><div class=\"prd_img\"><em class=\" \"></em><span><img src=\"https://d1cua0vf0mkpiy.cloudfront.net/images/menu/normal/a979056d-f273-4d52-bbdc-eb4afa06e26a.png\" class=\"\" style=\"display: inline; opacity: 1;\"></span></div><div class=\"cont\"><p class=\"tit\"><strong>21치즈스틱</strong></p></div><a class=\"btn_detail\"><span>Details</span></a></li><li><div class=\"prd_img\"><em class=\" \"></em><span><img src=\"https://d1cua0vf0mkpiy.cloudfront.net/images/menu/normal/988e4a1b-a92e-4756-9a03-0b840031db4a.png\" class=\"\" style=\"display: inline; opacity: 1;\"></span></div><div class=\"cont\"><p class=\"tit\"><strong>프렌치프라이(L) (1+1 행사)</strong></p></div><a class=\"btn_detail\"><span>Details</span></a></li><li><div class=\"prd_img\"><em class=\" \"></em><span><img src=\"https://d1cua0vf0mkpiy.cloudfront.net/images/menu/normal/cb6ee581-a69f-4f10-bed8-32db70ce5467.png\" class=\"\" style=\"display: inline; opacity: 1;\"></span></div><div class=\"cont\"><p class=\"tit\"><strong>쉐이킹프라이</strong></p></div><a class=\"btn_detail\"><span>Details</span></a></li><li><div class=\"prd_img\"><em class=\" \"></em><span><img src=\"https://d1cua0vf0mkpiy.cloudfront.net/images/menu/normal/6091f45f-e400-416e-91a5-6ba7b0987f17.png\" class=\"\" style=\"display: inline; opacity: 1;\"></span></div><div class=\"cont\"><p class=\"tit\"><strong>바삭킹8조각+소스</strong></p></div><a class=\"btn_detail\"><span>Details</span></a></li><li><div class=\"prd_img\"><em class=\" \"></em><span><img src=\"https://d1cua0vf0mkpiy.cloudfront.net/images/menu/normal/632404b2-7546-474f-848a-2e21bcd8057b.png\" class=\"\" style=\"display: inline; opacity: 1;\"></span></div><div class=\"cont\"><p class=\"tit\"><strong>바삭킹</strong></p></div><a class=\"btn_detail\"><span>Details</span></a></li><li><div class=\"prd_img\"><em class=\" \"></em><span><img src=\"https://d1cua0vf0mkpiy.cloudfront.net/images/menu/normal/78bc19f5-665c-467a-a24b-9354a5fecdf1.png\" class=\"\" style=\"display: inline; opacity: 1;\"></span></div><div class=\"cont\"><p class=\"tit\"><strong>크리미모짜볼</strong></p></div><a class=\"btn_detail\"><span>Details</span></a></li><li><div class=\"prd_img\"><em class=\" \"></em><span><img src=\"https://d1cua0vf0mkpiy.cloudfront.net/images/menu/normal/96e2daac-098b-4e84-879d-8a92b79ea797.png\" class=\"\" style=\"display: inline; opacity: 1;\"></span></div><div class=\"cont\"><p class=\"tit\"><strong>코코넛쉬림프+스위트칠리소스</strong></p></div><a class=\"btn_detail\"><span>Details</span></a></li><li><div class=\"prd_img\"><em class=\" \"></em><span><img src=\"https://d1cua0vf0mkpiy.cloudfront.net/images/menu/normal/0fa37845-b352-405e-852c-192009e1f6a3.png\" class=\"\" style=\"display: inline; opacity: 1;\"></span></div><div class=\"cont\"><p class=\"tit\"><strong>치즈프라이 (스낵킹)</strong></p></div><a class=\"btn_detail\"><span>Details</span></a></li><li><div class=\"prd_img\"><em class=\" \"></em><span><img src=\"https://d1cua0vf0mkpiy.cloudfront.net/images/menu/normal/2eb454e7-9d56-4455-bd61-fc1564361885.png\" class=\"\" style=\"display: inline; opacity: 1;\"></span></div><div class=\"cont\"><p class=\"tit\"><strong>트러플프라이 (스낵킹)</strong></p></div><a class=\"btn_detail\"><span>Details</span></a></li><li><div class=\"prd_img\"><em class=\" \"></em><span><img src=\"https://d1cua0vf0mkpiy.cloudfront.net/images/menu/normal/846cc854-0b13-49b3-b61d-144b172f67f2.png\" class=\"\" style=\"display: inline; opacity: 1;\"></span></div><div class=\"cont\"><p class=\"tit\"><strong>트러플프라이</strong></p></div><a class=\"btn_detail\"><span>Details</span></a></li><li><div class=\"prd_img\"><em class=\" \"></em><span><img src=\"https://d1cua0vf0mkpiy.cloudfront.net/images/menu/normal/84bd24cb-9b87-45bd-b371-b824c35018ad.png\" class=\"\" style=\"display: inline; opacity: 1;\"></span></div><div class=\"cont\"><p class=\"tit\"><strong>프렌치프라이</strong></p></div><a class=\"btn_detail\"><span>Details</span></a></li><li><div class=\"prd_img\"><em class=\" \"></em><span><img src=\"https://d1cua0vf0mkpiy.cloudfront.net/images/menu/normal/ae893470-d324-4314-b216-8e0c8e14d665.png\" class=\"\" style=\"display: inline; opacity: 1;\"></span></div><div class=\"cont\"><p class=\"tit\"><strong>어니언링</strong></p></div><a class=\"btn_detail\"><span>Details</span></a></li><li><div class=\"prd_img\"><em class=\" \"></em><span><img src=\"https://d1cua0vf0mkpiy.cloudfront.net/images/menu/normal/94cbf6c8-bb10-4e5e-ab14-c32c44d3e791.png\" class=\"\" style=\"display: inline; opacity: 1;\"></span></div><div class=\"cont\"><p class=\"tit\"><strong>코울슬로 (스낵킹)</strong></p></div><a class=\"btn_detail\"><span>Details</span></a></li><li><div class=\"prd_img\"><em class=\" \"></em><span><img src=\"https://d1cua0vf0mkpiy.cloudfront.net/images/menu/normal/8358caae-9b8b-449a-aac0-2a89fb00258d.png\" class=\"\" style=\"display: inline; opacity: 1;\"></span></div><div class=\"cont\"><p class=\"tit\"><strong>콘샐러드 (스낵킹)</strong></p></div><a class=\"btn_detail\"><span>Details</span></a></li><li><div class=\"prd_img\"><em class=\" \"></em><span><img src=\"https://d1cua0vf0mkpiy.cloudfront.net/images/menu/normal/42430483-8f03-44e0-8059-4458dd23590d.png\" class=\"\" style=\"display: inline; opacity: 1;\"></span></div><div class=\"cont\"><p class=\"tit\"><strong>사이드소스</strong></p></div><a class=\"btn_detail\"><span>Details</span></a></li><li><div class=\"prd_img\"><em class=\" \"></em><span><img src=\"https://d1cua0vf0mkpiy.cloudfront.net/images/menu/normal/851c84fd-a119-4da4-b52a-e948423b8332.png\" class=\"\" style=\"display: inline; opacity: 1;\"></span></div><div class=\"cont\"><p class=\"tit\"><strong>시즈닝</strong></p></div><a class=\"btn_detail\"><span>Details</span></a></li><li><div class=\"prd_img\"><em class=\" \"></em><span><img src=\"https://d1cua0vf0mkpiy.cloudfront.net/images/menu/normal/031f06a0-75c4-42e0-b707-395d43211976.png\" class=\"\" style=\"display: inline; opacity: 1;\"></span></div><div class=\"cont\"><p class=\"tit\"><strong>너겟킹</strong></p></div><a class=\"btn_detail\"><span>Details</span></a></li></ul>'\n",
    "url4_soup = BeautifulSoup(url4)\n",
    "menu4_name = url4_soup.find_all(\"p\",\"tit\")\n",
    "menu4 = []\n",
    "for txt in menu4_name:\n",
    "    menu4.append(txt.get_text())\n",
    "    \n",
    "print(menu4)"
   ]
  },
  {
   "cell_type": "code",
   "execution_count": 12,
   "metadata": {},
   "outputs": [
    {
     "name": "stdout",
     "output_type": "stream",
     "text": [
      "['제로톡톡', '제로톡톡 (행사)', '아메리카노(행사)', '아메리카노', '핫/아이스초코(행사)', '핫/아이스초코', '핫초코', '선데', '콘 아이스크림', '컵 아이스크림', '씨그램', '코카콜라', '코카콜라 제로', '스프라이트', '미닛메이드 오렌지', '순수(미네랄워터)']\n"
     ]
    }
   ],
   "source": [
    "#음료\n",
    "url5 = '<ul class=\"prdmenu_list\"><li><div class=\"prd_img\"><em class=\" \"></em><span><img src=\"https://d1cua0vf0mkpiy.cloudfront.net/images/menu/normal/665fe60c-6c20-4483-a01b-19c5ef26541a.png\" class=\"\" style=\"display: inline; opacity: 1;\"></span></div><div class=\"cont\"><p class=\"tit\"><strong>제로톡톡</strong></p></div><a class=\"btn_detail\"><span>Details</span></a></li><li><div class=\"prd_img\"><em class=\" \"></em><span><img src=\"https://d1cua0vf0mkpiy.cloudfront.net/images/menu/normal/2d53bbf2-51b8-404f-88b4-5d040115cbfc.png\" class=\"\" style=\"display: inline; opacity: 1;\"></span></div><div class=\"cont\"><p class=\"tit\"><strong>제로톡톡 (행사)</strong></p></div><a class=\"btn_detail\"><span>Details</span></a></li><li><div class=\"prd_img\"><em class=\" \"></em><span><img src=\"https://d1cua0vf0mkpiy.cloudfront.net/images/menu/normal/2c2a1567-5cdb-4b5d-9bea-3673f9e18a83.png\" class=\"\" style=\"display: inline; opacity: 1;\"></span></div><div class=\"cont\"><p class=\"tit\"><strong>아메리카노(행사)</strong></p></div><a class=\"btn_detail\"><span>Details</span></a></li><li><div class=\"prd_img\"><em class=\" \"></em><span><img src=\"https://d1cua0vf0mkpiy.cloudfront.net/images/menu/normal/34984ae9-a260-4713-849c-ade5de8ec30c.png\" class=\"\" style=\"display: inline; opacity: 1;\"></span></div><div class=\"cont\"><p class=\"tit\"><strong>아메리카노</strong></p></div><a class=\"btn_detail\"><span>Details</span></a></li><li><div class=\"prd_img\"><em class=\" \"></em><span><img src=\"https://d1cua0vf0mkpiy.cloudfront.net/images/menu/normal/5a39a39e-61bd-45ae-bafd-9ecf60667568.png\" class=\"\" style=\"display: inline; opacity: 1;\"></span></div><div class=\"cont\"><p class=\"tit\"><strong>핫/아이스초코(행사)</strong></p></div><a class=\"btn_detail\"><span>Details</span></a></li><li><div class=\"prd_img\"><em class=\" \"></em><span><img src=\"https://d1cua0vf0mkpiy.cloudfront.net/images/menu/normal/1d6f67b7-6fdf-43fd-a987-0caafed8fe3a.png\" class=\"\" style=\"display: inline; opacity: 1;\"></span></div><div class=\"cont\"><p class=\"tit\"><strong>핫/아이스초코</strong></p></div><a class=\"btn_detail\"><span>Details</span></a></li><li><div class=\"prd_img\"><em class=\" \"></em><span><img src=\"https://d1cua0vf0mkpiy.cloudfront.net/images/menu/normal/0406ca7f-fa57-47d5-88d1-6c9e672d8dba.png\" class=\"\" style=\"display: inline; opacity: 1;\"></span></div><div class=\"cont\"><p class=\"tit\"><strong>핫초코</strong></p></div><a class=\"btn_detail\"><span>Details</span></a></li><li><div class=\"prd_img\"><em class=\" \"></em><span><img src=\"https://d1cua0vf0mkpiy.cloudfront.net/images/menu/normal/15a0d219-83a6-41af-ae9b-d95dde6b0b58.png\" class=\"\" style=\"display: inline; opacity: 1;\"></span></div><div class=\"cont\"><p class=\"tit\"><strong>선데</strong></p></div><a class=\"btn_detail\"><span>Details</span></a></li><li><div class=\"prd_img\"><em class=\" \"></em><span><img src=\"https://d1cua0vf0mkpiy.cloudfront.net/images/menu/normal/a8be264d-42f7-4131-8dc5-d7fefbf95ba1.png\" class=\"\" style=\"display: inline; opacity: 1;\"></span></div><div class=\"cont\"><p class=\"tit\"><strong>콘 아이스크림</strong></p></div><a class=\"btn_detail\"><span>Details</span></a></li><li><div class=\"prd_img\"><em class=\" \"></em><span><img src=\"https://d1cua0vf0mkpiy.cloudfront.net/images/menu/normal/823cfb56-cbdb-4634-8a80-792a2280680b.png\" class=\"\" style=\"display: inline; opacity: 1;\"></span></div><div class=\"cont\"><p class=\"tit\"><strong>컵 아이스크림</strong></p></div><a class=\"btn_detail\"><span>Details</span></a></li><li><div class=\"prd_img\"><em class=\" \"></em><span><img src=\"https://d1cua0vf0mkpiy.cloudfront.net/images/menu/normal/448eab97-811b-45ef-8eab-85ce5ee029f5.png\" class=\"\" style=\"display: inline; opacity: 1;\"></span></div><div class=\"cont\"><p class=\"tit\"><strong>씨그램</strong></p></div><a class=\"btn_detail\"><span>Details</span></a></li><li><div class=\"prd_img\"><em class=\" \"></em><span><img src=\"https://d1cua0vf0mkpiy.cloudfront.net/images/menu/normal/95745c41-9e6f-4100-b315-4af269d43175.png\" class=\"\" style=\"display: inline; opacity: 1;\"></span></div><div class=\"cont\"><p class=\"tit\"><strong>코카콜라</strong></p></div><a class=\"btn_detail\"><span>Details</span></a></li><li><div class=\"prd_img\"><em class=\" \"></em><span><img src=\"https://d1cua0vf0mkpiy.cloudfront.net/images/menu/normal/d8d11aaa-51d4-4161-938f-f316bd04d651.png\" class=\"\" style=\"display: inline; opacity: 1;\"></span></div><div class=\"cont\"><p class=\"tit\"><strong>코카콜라 제로</strong></p></div><a class=\"btn_detail\"><span>Details</span></a></li><li><div class=\"prd_img\"><em class=\" \"></em><span><img src=\"https://d1cua0vf0mkpiy.cloudfront.net/images/menu/normal/6edc186c-398e-4b22-8eaf-dda6f1dbda19.png\" class=\"\" style=\"display: inline; opacity: 1;\"></span></div><div class=\"cont\"><p class=\"tit\"><strong>스프라이트</strong></p></div><a class=\"btn_detail\"><span>Details</span></a></li><li><div class=\"prd_img\"><em class=\" \"></em><span><img src=\"https://d1cua0vf0mkpiy.cloudfront.net/images/menu/normal/5048681f-8a81-466e-b377-a3f9ed432649.png\" class=\"\" style=\"display: inline; opacity: 1;\"></span></div><div class=\"cont\"><p class=\"tit\"><strong>미닛메이드 오렌지</strong></p></div><a class=\"btn_detail\"><span>Details</span></a></li><li><div class=\"prd_img\"><em class=\" \"></em><span><img src=\"https://d1cua0vf0mkpiy.cloudfront.net/images/menu/normal/3f1bd322-0ed8-42d4-9469-70d8c7c2a847.png\" class=\"\" style=\"display: inline; opacity: 1;\"></span></div><div class=\"cont\"><p class=\"tit\"><strong>순수(미네랄워터)</strong></p></div><a class=\"btn_detail\"><span>Details</span></a></li></ul>'\n",
    "url5_soup = BeautifulSoup(url5)\n",
    "menu5_name = url5_soup.find_all(\"p\",\"tit\")\n",
    "menu5 = []\n",
    "for txt in menu5_name:\n",
    "    menu5.append(txt.get_text())\n",
    "    \n",
    "print(menu5)"
   ]
  },
  {
   "cell_type": "code",
   "execution_count": 13,
   "metadata": {},
   "outputs": [],
   "source": [
    "#와퍼\n",
    "#주니어&버거\n",
    "#올데이킹&치킨\n",
    "#사이드\n",
    "#음료\n",
    "\n",
    "menu_list=[]\n",
    "category=[]\n",
    "\n",
    "for txt in menu:\n",
    "    menu_list.append(txt)\n",
    "    category.append(\"와퍼\")\n",
    "    \n",
    "for txt in menu2:\n",
    "    menu_list.append(txt)\n",
    "    category.append(\"주니어&버거\")\n",
    "\n",
    "for txt in menu3:\n",
    "    menu_list.append(txt)\n",
    "    category.append(\"올데이킹&치킨\")\n",
    "\n",
    "for txt in menu4:\n",
    "    menu_list.append(txt)\n",
    "    category.append(\"사이드\")\n",
    "\n",
    "for txt in menu5:\n",
    "    menu_list.append(txt)\n",
    "    category.append(\"음료\")\n",
    "    \n",
    "    "
   ]
  },
  {
   "cell_type": "code",
   "execution_count": 15,
   "metadata": {},
   "outputs": [],
   "source": [
    "import pandas as pd\n",
    "menu_obj = {\"Category\":category, \"MenuList\":menu_list}\n",
    "menu_obj_DF = pd.DataFrame(menu_obj, columns=[\"Category\",\"MenuList\"])\n",
    "menu_obj_DF.to_excel(\"BuergerKingMenu.xlsx\", index=False)"
   ]
  }
 ],
 "metadata": {
  "kernelspec": {
   "display_name": "Python 3",
   "language": "python",
   "name": "python3"
  },
  "language_info": {
   "codemirror_mode": {
    "name": "ipython",
    "version": 3
   },
   "file_extension": ".py",
   "mimetype": "text/x-python",
   "name": "python",
   "nbconvert_exporter": "python",
   "pygments_lexer": "ipython3",
   "version": "3.8.3"
  }
 },
 "nbformat": 4,
 "nbformat_minor": 4
}
