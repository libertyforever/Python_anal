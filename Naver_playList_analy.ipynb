{
 "cells": [
  {
   "cell_type": "code",
   "execution_count": 1,
   "metadata": {},
   "outputs": [],
   "source": [
    "from urllib.request import urlopen\n",
    "from bs4 import BeautifulSoup\n",
    "import re\n",
    "import pandas as pd"
   ]
  },
  {
   "cell_type": "code",
   "execution_count": 2,
   "metadata": {},
   "outputs": [],
   "source": [
    "url_base = \"file:\\\\05.Programming\\\\01_python_data\\\\DataAnalysis\\\\for_Blog\\\\account\"\n",
    "file_name = \"\\\\PlayList.html\"\n",
    "url = url_base + file_name"
   ]
  },
  {
   "cell_type": "code",
   "execution_count": 3,
   "metadata": {},
   "outputs": [],
   "source": [
    "html = urlopen(url)\n",
    "soup = BeautifulSoup(html)"
   ]
  },
  {
   "cell_type": "code",
   "execution_count": 4,
   "metadata": {},
   "outputs": [],
   "source": [
    "#link_text\n",
    "#ly_info_album\n",
    "#ly_info_artist\n",
    "list_soup_ttl = soup.find_all(\"a\",\"link_text\")\n",
    "list_soup_alb = soup.find_all(\"a\",\"ly_info_album\")\n",
    "list_soup_art = soup.find_all(\"a\",\"ly_info_artist\")"
   ]
  },
  {
   "cell_type": "code",
   "execution_count": 5,
   "metadata": {},
   "outputs": [],
   "source": [
    "list_ttl = []\n",
    "list_alb = []\n",
    "list_art = []\n",
    "rank = [] #넘버링을 위한 list"
   ]
  },
  {
   "cell_type": "code",
   "execution_count": 6,
   "metadata": {},
   "outputs": [
    {
     "name": "stdout",
     "output_type": "stream",
     "text": [
      "[<a class=\"link_text\" href=\"/track/41084\" title=\"어쩌면...\">어쩌면...</a>, <a class=\"link_text\" href=\"/track/1905382\" title=\"Slow Motion (Album Version)\">Slow Motion (Album Version)</a>, <a class=\"link_text\" href=\"/track/2318632\" title=\"Sky High (Feat. Blanc.)\">Sky High (Feat. Blanc.)</a>, <a class=\"link_text\" href=\"/track/26358855\" title=\"On My Way (배틀그라운드 모바일 배경음악)\">On My Way (배틀그라운드 모바일 배경음악)</a>, <a class=\"link_text\" href=\"/track/16090167\" title=\"코헨: 할렐루야\">코헨: 할렐루야</a>, <a class=\"link_text\" href=\"/track/338849\" title=\"사랑하면 할수록\">사랑하면 할수록</a>, <a class=\"link_text\" href=\"/track/13524\" title=\"그랬나봐\">그랬나봐</a>, <a class=\"link_text\" href=\"/track/1532397\" title=\"그대 내게 행복을 주는 사람\">그대 내게 행복을 주는 사람</a>, <a class=\"link_text\" href=\"/track/3740959\" title=\"이별택시\">이별택시</a>, <a class=\"link_text\" href=\"/track/4589957\" title=\"지친 하루\">지친 하루</a>, <a class=\"link_text\" href=\"/track/10367\" title=\"다시 사랑한다 말할까\">다시 사랑한다 말할까</a>, <a class=\"link_text\" href=\"/track/403952\" title=\"시작되는 연인들을 위해\">시작되는 연인들을 위해</a>, <a class=\"link_text\" href=\"/track/316594\" title=\"Yes Sir, I Can Boogie\">Yes Sir, I Can Boogie</a>, <a class=\"link_text\" href=\"/track/21408920\" title=\"어쩌다 보니\">어쩌다 보니</a>, <a class=\"link_text\" href=\"/track/176939\" title=\"Working For The Weekend\">Working For The Weekend</a>, <a class=\"link_text\" href=\"/track/28962\" title=\"웃어요\">웃어요</a>, <a class=\"link_text\" href=\"/track/22277769\" title=\"Never Enough\">Never Enough</a>, <a class=\"link_text\" href=\"/track/2306\" title=\"오래전 그날\">오래전 그날</a>, <a class=\"link_text\" href=\"/track/2536909\" title=\"바람이 불어오는 곳\">바람이 불어오는 곳</a>, <a class=\"link_text\" href=\"/track/21465173\" title=\"Priorities\">Priorities</a>, <a class=\"link_text\" href=\"/track/25380\" title=\"천상연\">천상연</a>, <a class=\"link_text\" href=\"/track/3155929\" title=\"We Are Young (Feat. Janelle Monáe)\">We Are Young (Feat. Janelle Monáe)</a>, <a class=\"link_text\" href=\"/track/24640426\" title='Fire On Fire (From \"Watership Down\")'>Fire On Fire (From \"Watership Down\")</a>, <a class=\"link_text\" href=\"/track/180446\" title=\"I Want You To Want Me\">I Want You To Want Me</a>, <a class=\"link_text\" href=\"/track/209673\" title=\"Wonderwall\">Wonderwall</a>, <a class=\"link_text\" href=\"/track/17828558\" title=\"With Or Without You (Remastered)\">With Or Without You (Remastered)</a>, <a class=\"link_text\" href=\"/track/1998307\" title=\"행복해요 (With 재호,재윤)\">행복해요 (With 재호,재윤)</a>, <a class=\"link_text\" href=\"/track/4392836\" title=\"괜찮아 사랑이야\">괜찮아 사랑이야</a>, <a class=\"link_text\" href=\"/track/21977046\" title=\"소리\">소리</a>, <a class=\"link_text\" href=\"/track/21630234\" title=\"Once In A While (From 'The Art Tatum-Buddy De Franco Quartet')\">Once In A While (From 'The Art Tatum-Buddy De Franco Quartet')</a>, <a class=\"link_text\" href=\"/track/4321127\" title=\"Runnin'\">Runnin'</a>, <a class=\"link_text\" href=\"/track/25375814\" title=\"기다린 만큼, 더\">기다린 만큼, 더</a>, <a class=\"link_text\" href=\"/track/2399610\" title=\"Nothing Left to Lose\">Nothing Left to Lose</a>, <a class=\"link_text\" href=\"/track/21064399\" title=\"모든 날, 모든 순간 (Every day, Every Moment)\">모든 날, 모든 순간 (Every day, Every Moment)</a>, <a class=\"link_text\" href=\"/track/3140361\" title=\"그대 바보\">그대 바보</a>, <a class=\"link_text\" href=\"/track/2513858\" title=\"Misty\">Misty</a>, <a class=\"link_text\" href=\"/track/6029512\" title=\"Alone\">Alone</a>, <a class=\"link_text\" href=\"/track/11122993\" title=\"Maria\">Maria</a>, <a class=\"link_text\" href=\"/track/6072732\" title=\"Rain Night (Inst.)\">Rain Night (Inst.)</a>, <a class=\"link_text\" href=\"/track/7865563\" title=\"Hello, rain\">Hello, rain</a>, <a class=\"link_text\" href=\"/track/16146710\" title=\"See You Later\">See You Later</a>, <a class=\"link_text\" href=\"/track/5999776\" title=\"추억에 살아\">추억에 살아</a>, <a class=\"link_text\" href=\"/track/7301485\" title=\"Anna\">Anna</a>, <a class=\"link_text\" href=\"/track/5932046\" title=\"비밀을 말하다\">비밀을 말하다</a>, <a class=\"link_text\" href=\"/track/4007165\" title=\"Rain\">Rain</a>, <a class=\"link_text\" href=\"/track/6053574\" title=\"Los Angeles\">Los Angeles</a>, <a class=\"link_text\" href=\"/track/3719369\" title=\"Demons\">Demons</a>, <a class=\"link_text\" href=\"/track/6134023\" title=\"오늘\">오늘</a>, <a class=\"link_text\" href=\"/track/6127468\" title=\"Stardust (Feat. Karen Mok)\">Stardust (Feat. Karen Mok)</a>, <a class=\"link_text\" href=\"/track/21972\" title=\"안녕\">안녕</a>, <a class=\"link_text\" href=\"/track/18844751\" title=\"Da Ya Think I'm Sexy (Feat. DNCE)\">Da Ya Think I'm Sexy (Feat. DNCE)</a>, <a class=\"link_text\" href=\"/track/603667\" title=\"The Blower's Daughter\">The Blower's Daughter</a>, <a class=\"link_text\" href=\"/track/3106797\" title=\"백야\">백야</a>, <a class=\"link_text\" href=\"/track/4285946\" title=\"The Whole Nine Yards (냉정과 열정사이)\">The Whole Nine Yards (냉정과 열정사이)</a>, <a class=\"link_text\" href=\"/track/3781578\" title=\"그런 계절\">그런 계절</a>, <a class=\"link_text\" href=\"/track/6168128\" title=\"어떻게 생각해\">어떻게 생각해</a>, <a class=\"link_text\" href=\"/track/1938427\" title=\"새벽 3시\">새벽 3시</a>, <a class=\"link_text\" href=\"/track/400704\" title=\"사랑이 다른 사랑으로 잊혀지네\">사랑이 다른 사랑으로 잊혀지네</a>, <a class=\"link_text\" href=\"/track/4814944\" title=\"사월의 눈\">사월의 눈</a>, <a class=\"link_text\" href=\"/track/807246\" title=\"백만송이 장미\">백만송이 장미</a>, <a class=\"link_text\" href=\"/track/18094287\" title=\"평범한 방학\">평범한 방학</a>, <a class=\"link_text\" href=\"/track/617553\" title=\"처음 느낌 그대로\">처음 느낌 그대로</a>, <a class=\"link_text\" href=\"/track/19276398\" title=\"Beautiful Sunday\">Beautiful Sunday</a>, <a class=\"link_text\" href=\"/track/3786001\" title=\"Hello (Feat. 버벌진트)\">Hello (Feat. 버벌진트)</a>, <a class=\"link_text\" href=\"/track/128126\" title=\"Dance With My Father\">Dance With My Father</a>, <a class=\"link_text\" href=\"/track/1868237\" title=\"I Will (Beatles Cover) (Bonus Track)\">I Will (Beatles Cover) (Bonus Track)</a>, <a class=\"link_text\" href=\"/track/161133\" title=\"Twist And Shout (Remastered 2009)\">Twist And Shout (Remastered 2009)</a>, <a class=\"link_text\" href=\"/track/18469293\" title=\"사랑하지 않은 것처럼\">사랑하지 않은 것처럼</a>, <a class=\"link_text\" href=\"/track/499084\" title=\"여행길 (Feat. 윤도현)\">여행길 (Feat. 윤도현)</a>, <a class=\"link_text\" href=\"/track/65129\" title=\"She's Leaving Home (Remastered 2009)\">She's Leaving Home (Remastered 2009)</a>, <a class=\"link_text\" href=\"/track/608245\" title=\"거리에서\">거리에서</a>, <a class=\"link_text\" href=\"/track/74955\" title=\"Bright Eyes\">Bright Eyes</a>, <a class=\"link_text\" href=\"/track/19823\" title=\"아! 옛날이여\">아! 옛날이여</a>, <a class=\"link_text\" href=\"/track/556229\" title=\"날아라 병아리\">날아라 병아리</a>, <a class=\"link_text\" href=\"/track/484194\" title=\"Suddenly I See\">Suddenly I See</a>, <a class=\"link_text\" href=\"/track/3324738\" title=\"Skyfall\">Skyfall</a>, <a class=\"link_text\" href=\"/track/5502025\" title=\"Sugar (Feat. Francesco Yates)\">Sugar (Feat. Francesco Yates)</a>, <a class=\"link_text\" href=\"/track/18445192\" title=\"부르튼\">부르튼</a>, <a class=\"link_text\" href=\"/track/4757695\" title=\"조개껍질 묶어 (Feat. 우쿨렐레피크닉)\">조개껍질 묶어 (Feat. 우쿨렐레피크닉)</a>, <a class=\"link_text\" href=\"/track/2510284\" title=\"Hot Summer\">Hot Summer</a>, <a class=\"link_text\" href=\"/track/2283825\" title=\"Forest\">Forest</a>, <a class=\"link_text\" href=\"/track/618521\" title=\"사랑\">사랑</a>, <a class=\"link_text\" href=\"/track/604868\" title=\"가로수 그늘 아래 서면\">가로수 그늘 아래 서면</a>, <a class=\"link_text\" href=\"/track/6115526\" title=\"달리기\">달리기</a>]\n"
     ]
    }
   ],
   "source": [
    "print(list_soup_ttl)"
   ]
  },
  {
   "cell_type": "code",
   "execution_count": 7,
   "metadata": {},
   "outputs": [
    {
     "name": "stdout",
     "output_type": "stream",
     "text": [
      "['1', '2', '3', '4', '5', '6', '7', '8', '9', '10', '11', '12', '13', '14', '15', '16', '17', '18', '19', '20', '21', '22', '23', '24', '25', '26', '27', '28', '29', '30', '31', '32', '33', '34', '35', '36', '37', '38', '39', '40', '41', '42', '43', '44', '45', '46', '47', '48', '49', '50', '51', '52', '53', '54', '55', '56', '57', '58', '59', '60', '61', '62', '63', '64', '65', '66', '67', '68', '69', '70', '71', '72', '73', '74', '75', '76', '77', '78', '79', '80', '81', '82', '83', '84']\n"
     ]
    }
   ],
   "source": [
    "i=1\n",
    "for item in list_soup_ttl:\n",
    "    list_ttl.append(item.get_text())\n",
    "    rank.append(str(i))\n",
    "    i += 1\n",
    "print(rank)"
   ]
  },
  {
   "cell_type": "code",
   "execution_count": 8,
   "metadata": {},
   "outputs": [
    {
     "name": "stdout",
     "output_type": "stream",
     "text": [
      "['어쩌면...', 'Slow Motion (Album Version)', 'Sky High (Feat. Blanc.)', 'On My Way (배틀그라운드 모바일 배경음악)', '코헨: 할렐루야', '사랑하면 할수록', '그랬나봐', '그대 내게 행복을 주는 사람', '이별택시', '지친 하루', '다시 사랑한다 말할까', '시작되는 연인들을 위해', 'Yes Sir, I Can Boogie', '어쩌다 보니', 'Working For The Weekend', '웃어요', 'Never Enough', '오래전 그날', '바람이 불어오는 곳', 'Priorities', '천상연', 'We Are Young (Feat. Janelle Monáe)', 'Fire On Fire (From \"Watership Down\")', 'I Want You To Want Me', 'Wonderwall', 'With Or Without You (Remastered)', '행복해요 (With 재호,재윤)', '괜찮아 사랑이야', '소리', \"Once In A While (From 'The Art Tatum-Buddy De Franco Quartet')\", \"Runnin'\", '기다린 만큼, 더', 'Nothing Left to Lose', '모든 날, 모든 순간 (Every day, Every Moment)', '그대 바보', 'Misty', 'Alone', 'Maria', 'Rain Night (Inst.)', 'Hello, rain', 'See You Later', '추억에 살아', 'Anna', '비밀을 말하다', 'Rain', 'Los Angeles', 'Demons', '오늘', 'Stardust (Feat. Karen Mok)', '안녕', \"Da Ya Think I'm Sexy (Feat. DNCE)\", \"The Blower's Daughter\", '백야', 'The Whole Nine Yards (냉정과 열정사이)', '그런 계절', '어떻게 생각해', '새벽 3시', '사랑이 다른 사랑으로 잊혀지네', '사월의 눈', '백만송이 장미', '평범한 방학', '처음 느낌 그대로', 'Beautiful Sunday', 'Hello (Feat. 버벌진트)', 'Dance With My Father', 'I Will (Beatles Cover) (Bonus Track)', 'Twist And Shout (Remastered 2009)', '사랑하지 않은 것처럼', '여행길 (Feat. 윤도현)', \"She's Leaving Home (Remastered 2009)\", '거리에서', 'Bright Eyes', '아! 옛날이여', '날아라 병아리', 'Suddenly I See', 'Skyfall', 'Sugar (Feat. Francesco Yates)', '부르튼', '조개껍질 묶어 (Feat. 우쿨렐레피크닉)', 'Hot Summer', 'Forest', '사랑', '가로수 그늘 아래 서면', '달리기']\n"
     ]
    }
   ],
   "source": [
    "print(list_ttl)"
   ]
  },
  {
   "cell_type": "code",
   "execution_count": 9,
   "metadata": {},
   "outputs": [
    {
     "data": {
      "text/plain": [
       "'앨범명\\r\\n              Morning Of Buzz\\r\\n            '"
      ]
     },
     "execution_count": 9,
     "metadata": {},
     "output_type": "execute_result"
    }
   ],
   "source": [
    "list_soup_alb[0].get_text()"
   ]
  },
  {
   "cell_type": "code",
   "execution_count": 10,
   "metadata": {},
   "outputs": [
    {
     "name": "stdout",
     "output_type": "stream",
     "text": [
      "['앨범명', '              Morning Of Buzz', '            ']\n"
     ]
    },
    {
     "data": {
      "text/plain": [
       "'Morning Of Buzz'"
      ]
     },
     "execution_count": 10,
     "metadata": {},
     "output_type": "execute_result"
    }
   ],
   "source": [
    "import re\n",
    "temp_text = list_soup_alb[0].get_text()\n",
    "temp_list_alb = re.split((\"\\n|\\r\\n\"), temp_text)\n",
    "print(temp_list_alb)\n",
    "str(temp_list_alb[1]).strip()"
   ]
  },
  {
   "cell_type": "code",
   "execution_count": 11,
   "metadata": {},
   "outputs": [],
   "source": [
    "for item in list_soup_alb:\n",
    "    temp_txt = item.get_text()\n",
    "    list_alb.append(re.split((\"\\n|\\r\\n\"), temp_txt)[1].strip())"
   ]
  },
  {
   "cell_type": "code",
   "execution_count": 12,
   "metadata": {},
   "outputs": [
    {
     "name": "stdout",
     "output_type": "stream",
     "text": [
      "['Morning Of Buzz', 'First Love', 'Tense', 'On My Way (배틀그라운드 모바일 배경음악)', 'Sheku Kanneh-Mason', '클래식 O.S.T (The Classic)', 'Kim Hyung Joong 1', 'Folk In Live', '2013 월간 윤종신 Repair 3월호', '2014 월간 윤종신 12월호', '귀향 (歸鄕)', '이원진', 'More Monty', 'Shoot Me : Youth Part 1', 'Their Greatest Hits', 'Live In Concert', 'The Greatest Showman (Original Motion Picture Soundtrack) (Sing-A-Long Edition)', 'The Natural', \"'명불허전' 김광석 다시듣기\", 'Priorities', 'Version 1.0', 'Some Nights', 'Fire On Fire (From \"Watership Down\")', 'Greatest Hits - Cheap Trick', \"(What's The Story) Morning Glory\", 'The Joshua Tree (Super Deluxe)', 'There Are Different Ways To Happiness', '괜찮아 사랑이야 OST Vol. 1', '미스터 션샤인 OST', 'ART TATUM - FOREVER JAZZ HITS VOL.4 (아트 테이텀 재즈 히트 모음)', 'Playlist : The Very Best Of Adam Lambert', '더 팬 TOP5', 'The Collection', \"'키스 먼저 할까요?' OST Part 3\", '빠담빠담 OST', 'Pianto', 'Alone', '2nd Single - Maria', 'Rain Night', '3일의 낮과 밤', 'See You Later', '추억에 살아', '1st Single - Anna', 'Slow Tempo', 'Goodbye 20', 'Recreational Love', 'Night Visions', 'When I Begin', 'Stardust', \"SoRa's 5 Diary\", \"Da Ya Think I'm Sexy?\", 'O', '백야', '피아노로 듣는 아름다운 영화음악', '꽃그늘', 'Q', 'The Note', 'Whistle In A Maze', '사월의 눈', 'Kiss in Yesterday', '흑오야평', 'RE-WIND (리와인드)', '오리지널 골든 메모리 (ORIGIANL GOLDEN MEMORY) Vol. 1', 'Hello', 'Dance With My Father', 'Untuk Rena', 'Please Please Me (Remastered)', \"'Be One' - Buzz The 1st Mini Album\", 'The Renaissance', \"Sgt. Pepper's Lonely Hearts Club Band (Remastered)\", 'The Ballads', 'Art Garfunkel Album', 'My Life And Best', 'Regame', 'Eye To The Telescope', 'Skyfall', 'Sugar', 'RED', '쎄시봉 OST', \"'Hot Summer' f(x) 1st Album (Repackage)\", \"1-1EP '36.5℃'\", '사랑', '1집 옛사랑 (The Story of Musicians)', 'RE:TAG']\n"
     ]
    }
   ],
   "source": [
    "print(list_alb)"
   ]
  },
  {
   "cell_type": "code",
   "execution_count": 13,
   "metadata": {},
   "outputs": [
    {
     "data": {
      "text/plain": [
       "'버즈'"
      ]
     },
     "execution_count": 13,
     "metadata": {},
     "output_type": "execute_result"
    }
   ],
   "source": [
    "list_temp_art = re.split((\"\\n|\\r\\n\"), list_soup_art[0].get_text())\n",
    "list_temp_art[1].strip()"
   ]
  },
  {
   "cell_type": "code",
   "execution_count": 14,
   "metadata": {},
   "outputs": [],
   "source": [
    "for item in list_soup_art:\n",
    "    list_temp_art = re.split((\"\\n|\\r\\n\") , item.get_text())\n",
    "    list_art.append(list_temp_art[1].strip())"
   ]
  },
  {
   "cell_type": "code",
   "execution_count": 15,
   "metadata": {},
   "outputs": [
    {
     "name": "stdout",
     "output_type": "stream",
     "text": [
      "['버즈', 'Karina', 'FreeTEMPO', 'Alan Walker', 'Sheku Kanneh-Mason', '한성민', '김형중', '해바라기', '윤종신', '윤종신', '김동률', '이원진', 'Various Artists', 'DAY6(데이식스)', 'Loverboy', '유리상자', 'Loren Allred', '윤종신', '제이레빗(J Rabbit)', 'Plested', '캔(Can)', 'Fun.', 'Sam Smith', 'Cheap Trick', 'Oasis', 'U2', '추가열', '다비치', '이수현', 'Art Tatum', 'Adam Lambert', '카더가든', 'Alan Parsons', '폴킴', '제아', 'Zebra', '쟈스민 K', '남예지', '서재영', '조정희(Jung-hee Cho)', '남예림', '애드투(Add2)', '남예지', '주형진', 'Lim Kim', 'The Bird And The Bee', 'Imagine Dragons', '오왠(O.WHEN)', 'MIKA', '이소라', 'Rod Stewart', 'Damien Rice', '짙은(Zitten)', 'John S. Park', '심규선(Lucia)', 'CHEEZE (치즈)', '테이', '하림', '허각', '화요비', '삼점오', '러브홀릭', 'Various Artists', '조용필', 'Luther Vandross', 'Mocca', 'The Beatles(비틀스)', '버즈', '부가킹즈', 'The Beatles(비틀스)', '성시경', 'Art Garfunkel', '이선희', '넥스트', 'KT Tunstall', 'Adele', 'Robin Schulz', '칵스(THE KOXX)', '강하늘', 'f(x)', '최고은', '부활', '임재범', '옥상달빛']\n"
     ]
    }
   ],
   "source": [
    "print(list_art)"
   ]
  },
  {
   "cell_type": "code",
   "execution_count": 16,
   "metadata": {},
   "outputs": [
    {
     "name": "stdout",
     "output_type": "stream",
     "text": [
      "['1', '2', '3', '4', '5', '6', '7', '8', '9', '10', '11', '12', '13', '14', '15', '16', '17', '18', '19', '20', '21', '22', '23', '24', '25', '26', '27', '28', '29', '30', '31', '32', '33', '34', '35', '36', '37', '38', '39', '40', '41', '42', '43', '44', '45', '46', '47', '48', '49', '50', '51', '52', '53', '54', '55', '56', '57', '58', '59', '60', '61', '62', '63', '64', '65', '66', '67', '68', '69', '70', '71', '72', '73', '74', '75', '76', '77', '78', '79', '80', '81', '82', '83', '84']\n"
     ]
    }
   ],
   "source": [
    "rank=[]\n",
    "for i in range (1,85):\n",
    "    rank.append(str(i))\n",
    "\n",
    "print(rank)"
   ]
  },
  {
   "cell_type": "code",
   "execution_count": 17,
   "metadata": {},
   "outputs": [],
   "source": [
    "list_obj = {\"Title\":list_ttl,\"Artist\":list_art,\"Album\":list_alb,\"No.\":rank}\n",
    "list_DF = pd.DataFrame(list_obj,columns=[\"No.\",\"Title\",\"Artist\",\"Album\"])"
   ]
  },
  {
   "cell_type": "code",
   "execution_count": 18,
   "metadata": {},
   "outputs": [
    {
     "data": {
      "text/html": [
       "<div>\n",
       "<style scoped>\n",
       "    .dataframe tbody tr th:only-of-type {\n",
       "        vertical-align: middle;\n",
       "    }\n",
       "\n",
       "    .dataframe tbody tr th {\n",
       "        vertical-align: top;\n",
       "    }\n",
       "\n",
       "    .dataframe thead th {\n",
       "        text-align: right;\n",
       "    }\n",
       "</style>\n",
       "<table border=\"1\" class=\"dataframe\">\n",
       "  <thead>\n",
       "    <tr style=\"text-align: right;\">\n",
       "      <th></th>\n",
       "      <th>No.</th>\n",
       "      <th>Title</th>\n",
       "      <th>Artist</th>\n",
       "      <th>Album</th>\n",
       "    </tr>\n",
       "  </thead>\n",
       "  <tbody>\n",
       "    <tr>\n",
       "      <th>0</th>\n",
       "      <td>1</td>\n",
       "      <td>어쩌면...</td>\n",
       "      <td>버즈</td>\n",
       "      <td>Morning Of Buzz</td>\n",
       "    </tr>\n",
       "    <tr>\n",
       "      <th>1</th>\n",
       "      <td>2</td>\n",
       "      <td>Slow Motion (Album Version)</td>\n",
       "      <td>Karina</td>\n",
       "      <td>First Love</td>\n",
       "    </tr>\n",
       "    <tr>\n",
       "      <th>2</th>\n",
       "      <td>3</td>\n",
       "      <td>Sky High (Feat. Blanc.)</td>\n",
       "      <td>FreeTEMPO</td>\n",
       "      <td>Tense</td>\n",
       "    </tr>\n",
       "    <tr>\n",
       "      <th>3</th>\n",
       "      <td>4</td>\n",
       "      <td>On My Way (배틀그라운드 모바일 배경음악)</td>\n",
       "      <td>Alan Walker</td>\n",
       "      <td>On My Way (배틀그라운드 모바일 배경음악)</td>\n",
       "    </tr>\n",
       "    <tr>\n",
       "      <th>4</th>\n",
       "      <td>5</td>\n",
       "      <td>코헨: 할렐루야</td>\n",
       "      <td>Sheku Kanneh-Mason</td>\n",
       "      <td>Sheku Kanneh-Mason</td>\n",
       "    </tr>\n",
       "    <tr>\n",
       "      <th>...</th>\n",
       "      <td>...</td>\n",
       "      <td>...</td>\n",
       "      <td>...</td>\n",
       "      <td>...</td>\n",
       "    </tr>\n",
       "    <tr>\n",
       "      <th>79</th>\n",
       "      <td>80</td>\n",
       "      <td>Hot Summer</td>\n",
       "      <td>f(x)</td>\n",
       "      <td>'Hot Summer' f(x) 1st Album (Repackage)</td>\n",
       "    </tr>\n",
       "    <tr>\n",
       "      <th>80</th>\n",
       "      <td>81</td>\n",
       "      <td>Forest</td>\n",
       "      <td>최고은</td>\n",
       "      <td>1-1EP '36.5℃'</td>\n",
       "    </tr>\n",
       "    <tr>\n",
       "      <th>81</th>\n",
       "      <td>82</td>\n",
       "      <td>사랑</td>\n",
       "      <td>부활</td>\n",
       "      <td>사랑</td>\n",
       "    </tr>\n",
       "    <tr>\n",
       "      <th>82</th>\n",
       "      <td>83</td>\n",
       "      <td>가로수 그늘 아래 서면</td>\n",
       "      <td>임재범</td>\n",
       "      <td>1집 옛사랑 (The Story of Musicians)</td>\n",
       "    </tr>\n",
       "    <tr>\n",
       "      <th>83</th>\n",
       "      <td>84</td>\n",
       "      <td>달리기</td>\n",
       "      <td>옥상달빛</td>\n",
       "      <td>RE:TAG</td>\n",
       "    </tr>\n",
       "  </tbody>\n",
       "</table>\n",
       "<p>84 rows × 4 columns</p>\n",
       "</div>"
      ],
      "text/plain": [
       "   No.                        Title              Artist  \\\n",
       "0    1                       어쩌면...                  버즈   \n",
       "1    2  Slow Motion (Album Version)              Karina   \n",
       "2    3      Sky High (Feat. Blanc.)           FreeTEMPO   \n",
       "3    4  On My Way (배틀그라운드 모바일 배경음악)         Alan Walker   \n",
       "4    5                     코헨: 할렐루야  Sheku Kanneh-Mason   \n",
       "..  ..                          ...                 ...   \n",
       "79  80                   Hot Summer                f(x)   \n",
       "80  81                       Forest                 최고은   \n",
       "81  82                           사랑                  부활   \n",
       "82  83                 가로수 그늘 아래 서면                 임재범   \n",
       "83  84                          달리기                옥상달빛   \n",
       "\n",
       "                                      Album  \n",
       "0                           Morning Of Buzz  \n",
       "1                                First Love  \n",
       "2                                     Tense  \n",
       "3               On My Way (배틀그라운드 모바일 배경음악)  \n",
       "4                        Sheku Kanneh-Mason  \n",
       "..                                      ...  \n",
       "79  'Hot Summer' f(x) 1st Album (Repackage)  \n",
       "80                            1-1EP '36.5℃'  \n",
       "81                                       사랑  \n",
       "82          1집 옛사랑 (The Story of Musicians)  \n",
       "83                                   RE:TAG  \n",
       "\n",
       "[84 rows x 4 columns]"
      ]
     },
     "execution_count": 18,
     "metadata": {},
     "output_type": "execute_result"
    }
   ],
   "source": [
    "list_DF"
   ]
  },
  {
   "cell_type": "code",
   "execution_count": 25,
   "metadata": {},
   "outputs": [],
   "source": [
    "#excel로 저장하기\n",
    "list_DF.to_excel('Naver_PlayList.xlsx', index=False)"
   ]
  }
 ],
 "metadata": {
  "kernelspec": {
   "display_name": "Python 3",
   "language": "python",
   "name": "python3"
  },
  "language_info": {
   "codemirror_mode": {
    "name": "ipython",
    "version": 3
   },
   "file_extension": ".py",
   "mimetype": "text/x-python",
   "name": "python",
   "nbconvert_exporter": "python",
   "pygments_lexer": "ipython3",
   "version": "3.8.3"
  }
 },
 "nbformat": 4,
 "nbformat_minor": 4
}
