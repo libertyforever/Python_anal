{
 "cells": [
  {
   "cell_type": "markdown",
   "metadata": {},
   "source": [
    "### 버거집이미지 다운로드 하기"
   ]
  },
  {
   "cell_type": "code",
   "execution_count": 1,
   "metadata": {},
   "outputs": [],
   "source": [
    "from urllib.request import urlopen\n",
    "import urllib.parse\n",
    "from bs4 import BeautifulSoup\n",
    "import re"
   ]
  },
  {
   "cell_type": "code",
   "execution_count": 2,
   "metadata": {},
   "outputs": [],
   "source": [
    "url = \"https://www.shinsegaefood.com/nobrandburger/menu/menu.sf\"\n",
    "\n",
    "html = urlopen(url)\n",
    "soup = BeautifulSoup(html)"
   ]
  },
  {
   "cell_type": "code",
   "execution_count": 3,
   "metadata": {
    "collapsed": true
   },
   "outputs": [
    {
     "name": "stdout",
     "output_type": "stream",
     "text": [
      "[<div class=\"pic\"><img alt=\"제품사진 입니다.\" onerror=\"this.src='/images/common/Menu_NoImage.png';\" src=\"/uimages/2020/07/17/코울슬로치킨.png\"/></div>, <div class=\"pic\"><img alt=\"제품사진 입니다.\" onerror=\"this.src='/images/common/Menu_NoImage.png';\" src=\"/uimages/2020/07/17/데리마요버거.png\"/></div>, <div class=\"pic\"><img alt=\"제품사진 입니다.\" onerror=\"this.src='/images/common/Menu_NoImage.png';\" src=\"/uimages/2019/09/20/NBB오리지널(2).png\"/></div>, <div class=\"pic\"><img alt=\"제품사진 입니다.\" onerror=\"this.src='/images/common/Menu_NoImage.png';\" src=\"/uimages/2019/09/20/NBB어메이징(2).png\"/></div>, <div class=\"pic\"><img alt=\"제품사진 입니다.\" onerror=\"this.src='/images/common/Menu_NoImage.png';\" src=\"/uimages/2019/09/20/NBB시그니처(1).png\"/></div>, <div class=\"pic\"><img alt=\"제품사진 입니다.\" onerror=\"this.src='/images/common/Menu_NoImage.png';\" src=\"/uimages/2019/09/20/스모키살사.png\"/></div>, <div class=\"pic\"><img alt=\"제품사진 입니다.\" onerror=\"this.src='/images/common/Menu_NoImage.png';\" src=\"/uimages/2019/09/20/미트마니아.png\"/></div>, <div class=\"pic\"><img alt=\"제품사진 입니다.\" onerror=\"this.src='/images/common/Menu_NoImage.png';\" src=\"/uimages/2019/09/20/그릴드불고기.png\"/></div>, <div class=\"pic\"><img alt=\"제품사진 입니다.\" onerror=\"this.src='/images/common/Menu_NoImage.png';\" src=\"/uimages/2019/09/20/산체스.png\"/></div>, <div class=\"pic\"><img alt=\"제품사진 입니다.\" onerror=\"this.src='/images/common/Menu_NoImage.png';\" src=\"/uimages/2019/09/20/메가바이트.png\"/></div>, <div class=\"pic\"><img alt=\"제품사진 입니다.\" onerror=\"this.src='/images/common/Menu_NoImage.png';\" src=\"/uimages/2020/07/17/스리라차치킨.png\"/></div>, <div class=\"pic\"><img alt=\"제품사진 입니다.\" onerror=\"this.src='/images/common/Menu_NoImage.png';\" src=\"/uimages/2020/05/08/코울슬로.png\"/></div>, <div class=\"pic\"><img alt=\"제품사진 입니다.\" onerror=\"this.src='/images/common/Menu_NoImage.png';\" src=\"/uimages/2020/04/14/바게트수정.png\"/></div>, <div class=\"pic\"><img alt=\"제품사진 입니다.\" onerror=\"this.src='/images/common/Menu_NoImage.png';\" src=\"/uimages/2019/09/20/치킨샐러드.png\"/></div>, <div class=\"pic\"><img alt=\"제품사진 입니다.\" onerror=\"this.src='/images/common/Menu_NoImage.png';\" src=\"/uimages/2019/09/20/그린샐러드.png\"/></div>, <div class=\"pic\"><img alt=\"제품사진 입니다.\" onerror=\"this.src='/images/common/Menu_NoImage.png';\" src=\"/uimages/2021/01/29/인절미.png\"/></div>, <div class=\"pic\"><img alt=\"제품사진 입니다.\" onerror=\"this.src='/images/common/Menu_NoImage.png';\" src=\"/uimages/2021/01/29/치킨텐더(1).png\"/></div>, <div class=\"pic\"><img alt=\"제품사진 입니다.\" onerror=\"this.src='/images/common/Menu_NoImage.png';\" src=\"/uimages/2020/07/17/치킨-너겟.png\"/></div>, <div class=\"pic\"><img alt=\"제품사진 입니다.\" onerror=\"this.src='/images/common/Menu_NoImage.png';\" src=\"/uimages/2020/07/03/어니언도넛.png\"/></div>, <div class=\"pic\"><img alt=\"제품사진 입니다.\" onerror=\"this.src='/images/common/Menu_NoImage.png';\" src=\"/uimages/2019/09/20/감자튀김.png\"/></div>, <div class=\"pic\"><img alt=\"제품사진 입니다.\" onerror=\"this.src='/images/common/Menu_NoImage.png';\" src=\"/uimages/2019/09/20/콜라.png\"/></div>, <div class=\"pic\"><img alt=\"제품사진 입니다.\" onerror=\"this.src='/images/common/Menu_NoImage.png';\" src=\"/uimages/2019/09/20/레몬에이드.png\"/></div>, <div class=\"pic\"><img alt=\"제품사진 입니다.\" onerror=\"this.src='/images/common/Menu_NoImage.png';\" src=\"/uimages/2019/09/20/오렌지주스.png\"/></div>, <div class=\"pic\"><img alt=\"제품사진 입니다.\" onerror=\"this.src='/images/common/Menu_NoImage.png';\" src=\"/uimages/2019/09/20/커피.png\"/></div>]\n"
     ]
    }
   ],
   "source": [
    "image_temp_list = soup.find_all(\"div\",\"pic\")\n",
    "print(image_temp_list)"
   ]
  },
  {
   "cell_type": "code",
   "execution_count": 4,
   "metadata": {},
   "outputs": [
    {
     "name": "stdout",
     "output_type": "stream",
     "text": [
      "/uimages/2020/07/17/코울슬로치킨.png\n"
     ]
    }
   ],
   "source": [
    "#이미지 주소에서 문자 분리하여 추출하는 테스트\n",
    "x = str(image_temp_list[0])\n",
    "test = x[x.find(\"src=\\\"\")+5:-9]\n",
    "#x.slice(x.find(\"img\"):-5)\n",
    "#print(x.find(\"img\"))\n",
    "print(test)"
   ]
  },
  {
   "cell_type": "code",
   "execution_count": 5,
   "metadata": {},
   "outputs": [
    {
     "name": "stdout",
     "output_type": "stream",
     "text": [
      "['https://www.shinsegaefood.com/uimages/2020/07/17/코울슬로치킨.png', 'https://www.shinsegaefood.com/uimages/2020/07/17/데리마요버거.png', 'https://www.shinsegaefood.com/uimages/2019/09/20/NBB오리지널(2).png', 'https://www.shinsegaefood.com/uimages/2019/09/20/NBB어메이징(2).png', 'https://www.shinsegaefood.com/uimages/2019/09/20/NBB시그니처(1).png', 'https://www.shinsegaefood.com/uimages/2019/09/20/스모키살사.png', 'https://www.shinsegaefood.com/uimages/2019/09/20/미트마니아.png', 'https://www.shinsegaefood.com/uimages/2019/09/20/그릴드불고기.png', 'https://www.shinsegaefood.com/uimages/2019/09/20/산체스.png', 'https://www.shinsegaefood.com/uimages/2019/09/20/메가바이트.png', 'https://www.shinsegaefood.com/uimages/2020/07/17/스리라차치킨.png', 'https://www.shinsegaefood.com/uimages/2020/05/08/코울슬로.png', 'https://www.shinsegaefood.com/uimages/2020/04/14/바게트수정.png', 'https://www.shinsegaefood.com/uimages/2019/09/20/치킨샐러드.png', 'https://www.shinsegaefood.com/uimages/2019/09/20/그린샐러드.png', 'https://www.shinsegaefood.com/uimages/2021/01/29/인절미.png', 'https://www.shinsegaefood.com/uimages/2021/01/29/치킨텐더(1).png', 'https://www.shinsegaefood.com/uimages/2020/07/17/치킨-너겟.png', 'https://www.shinsegaefood.com/uimages/2020/07/03/어니언도넛.png', 'https://www.shinsegaefood.com/uimages/2019/09/20/감자튀김.png', 'https://www.shinsegaefood.com/uimages/2019/09/20/콜라.png', 'https://www.shinsegaefood.com/uimages/2019/09/20/레몬에이드.png', 'https://www.shinsegaefood.com/uimages/2019/09/20/오렌지주스.png', 'https://www.shinsegaefood.com/uimages/2019/09/20/커피.png']\n"
     ]
    }
   ],
   "source": [
    "list_img_url = [];\n",
    "base_url = \"https://www.shinsegaefood.com\"\n",
    "for txt in image_temp_list:\n",
    "    txt_temp = str(txt)\n",
    "    temp = txt_temp[txt_temp.find(\"src=\\\"\")+5:txt_temp.rfind(\".png\")+4]\n",
    "    list_img_url.append(base_url+temp)\n",
    "    \n",
    "print(list_img_url)"
   ]
  },
  {
   "cell_type": "code",
   "execution_count": 6,
   "metadata": {},
   "outputs": [
    {
     "name": "stdout",
     "output_type": "stream",
     "text": [
      "한글 : %ED%95%9C%EA%B8%80 한글(1) : %ED%95%9C%EA%B8%80%281%29 (1) : %281%29\n"
     ]
    }
   ],
   "source": [
    "#urllib parse 한글변환 테스트\n",
    "#요런 느낌로 적용함\n",
    "t1=urllib.parse.quote_plus(\"한글\")\n",
    "t2=urllib.parse.quote_plus(\"한글(1)\")\n",
    "t3=urllib.parse.quote_plus(\"(1)\")\n",
    "t4=urllib.parse.quote_plus(\"오리지널(2)\")\n",
    "\n",
    "print(\"한글 : \"+ t1,\"한글(1) : \"+ t2,\"(1) : \"+ t3)"
   ]
  },
  {
   "cell_type": "code",
   "execution_count": 7,
   "metadata": {},
   "outputs": [
    {
     "name": "stdout",
     "output_type": "stream",
     "text": [
      "['https://www.shinsegaefood.com/uimages/2020/07/17/%EC%BD%94%EC%9A%B8%EC%8A%AC%EB%A1%9C%EC%B9%98%ED%82%A8.png', 'https://www.shinsegaefood.com/uimages/2020/07/17/%EB%8D%B0%EB%A6%AC%EB%A7%88%EC%9A%94%EB%B2%84%EA%B1%B0.png', 'https://www.shinsegaefood.com/uimages/2019/09/20/NBB%EC%98%A4%EB%A6%AC%EC%A7%80%EB%84%90%282%29.png', 'https://www.shinsegaefood.com/uimages/2019/09/20/NBB%EC%96%B4%EB%A9%94%EC%9D%B4%EC%A7%95%282%29.png', 'https://www.shinsegaefood.com/uimages/2019/09/20/NBB%EC%8B%9C%EA%B7%B8%EB%8B%88%EC%B2%98%281%29.png', 'https://www.shinsegaefood.com/uimages/2019/09/20/%EC%8A%A4%EB%AA%A8%ED%82%A4%EC%82%B4%EC%82%AC.png', 'https://www.shinsegaefood.com/uimages/2019/09/20/%EB%AF%B8%ED%8A%B8%EB%A7%88%EB%8B%88%EC%95%84.png', 'https://www.shinsegaefood.com/uimages/2019/09/20/%EA%B7%B8%EB%A6%B4%EB%93%9C%EB%B6%88%EA%B3%A0%EA%B8%B0.png', 'https://www.shinsegaefood.com/uimages/2019/09/20/%EC%82%B0%EC%B2%B4%EC%8A%A4.png', 'https://www.shinsegaefood.com/uimages/2019/09/20/%EB%A9%94%EA%B0%80%EB%B0%94%EC%9D%B4%ED%8A%B8.png', 'https://www.shinsegaefood.com/uimages/2020/07/17/%EC%8A%A4%EB%A6%AC%EB%9D%BC%EC%B0%A8%EC%B9%98%ED%82%A8.png', 'https://www.shinsegaefood.com/uimages/2020/05/08/%EC%BD%94%EC%9A%B8%EC%8A%AC%EB%A1%9C.png', 'https://www.shinsegaefood.com/uimages/2020/04/14/%EB%B0%94%EA%B2%8C%ED%8A%B8%EC%88%98%EC%A0%95.png', 'https://www.shinsegaefood.com/uimages/2019/09/20/%EC%B9%98%ED%82%A8%EC%83%90%EB%9F%AC%EB%93%9C.png', 'https://www.shinsegaefood.com/uimages/2019/09/20/%EA%B7%B8%EB%A6%B0%EC%83%90%EB%9F%AC%EB%93%9C.png', 'https://www.shinsegaefood.com/uimages/2021/01/29/%EC%9D%B8%EC%A0%88%EB%AF%B8.png', 'https://www.shinsegaefood.com/uimages/2021/01/29/%EC%B9%98%ED%82%A8%ED%85%90%EB%8D%94%281%29.png', 'https://www.shinsegaefood.com/uimages/2020/07/17/%EC%B9%98%ED%82%A8-%EB%84%88%EA%B2%9F.png', 'https://www.shinsegaefood.com/uimages/2020/07/03/%EC%96%B4%EB%8B%88%EC%96%B8%EB%8F%84%EB%84%9B.png', 'https://www.shinsegaefood.com/uimages/2019/09/20/%EA%B0%90%EC%9E%90%ED%8A%80%EA%B9%80.png', 'https://www.shinsegaefood.com/uimages/2019/09/20/%EC%BD%9C%EB%9D%BC.png', 'https://www.shinsegaefood.com/uimages/2019/09/20/%EB%A0%88%EB%AA%AC%EC%97%90%EC%9D%B4%EB%93%9C.png', 'https://www.shinsegaefood.com/uimages/2019/09/20/%EC%98%A4%EB%A0%8C%EC%A7%80%EC%A3%BC%EC%8A%A4.png', 'https://www.shinsegaefood.com/uimages/2019/09/20/%EC%BB%A4%ED%94%BC.png'] ['코울슬로치킨', '데리마요버거', 'NBB오리지널(2)', 'NBB어메이징(2)', 'NBB시그니처(1)', '스모키살사', '미트마니아', '그릴드불고기', '산체스', '메가바이트', '스리라차치킨', '코울슬로', '바게트수정', '치킨샐러드', '그린샐러드', '인절미', '치킨텐더(1)', '치킨-너겟', '어니언도넛', '감자튀김', '콜라', '레몬에이드', '오렌지주스', '커피']\n"
     ]
    }
   ],
   "source": [
    "list_img_parse_url=[]\n",
    "list_img_real_name = []\n",
    "for txt in list_img_url:\n",
    "    #이름 가져오기\n",
    "    list_img_real_name.append(txt[txt.rfind(\"/\")+1:-4])\n",
    "    txt_temp1 = txt[:txt.rfind(\"/\")+1]\n",
    "    txt_temp2 = urllib.parse.quote_plus(txt[txt.rfind(\"/\")+1:])\n",
    "    list_img_parse_url.append(txt_temp1+txt_temp2)\n",
    "    \n",
    "print(list_img_parse_url,list_img_real_name)"
   ]
  },
  {
   "cell_type": "code",
   "execution_count": 8,
   "metadata": {},
   "outputs": [],
   "source": [
    "def downImage(img_url, img_name):\n",
    "    dir = '/05.Programming/'\n",
    "    urllib.request.urlretrieve(img_url, dir+'burgerImage/'+img_name + '.jpg')"
   ]
  },
  {
   "cell_type": "code",
   "execution_count": 9,
   "metadata": {},
   "outputs": [],
   "source": [
    "i=0\n",
    "for url in list_img_parse_url:\n",
    "    downImage(url,list_img_real_name[i])\n",
    "    i+=1"
   ]
  }
 ],
 "metadata": {
  "kernelspec": {
   "display_name": "Python 3",
   "language": "python",
   "name": "python3"
  },
  "language_info": {
   "codemirror_mode": {
    "name": "ipython",
    "version": 3
   },
   "file_extension": ".py",
   "mimetype": "text/x-python",
   "name": "python",
   "nbconvert_exporter": "python",
   "pygments_lexer": "ipython3",
   "version": "3.8.3"
  }
 },
 "nbformat": 4,
 "nbformat_minor": 4
}
